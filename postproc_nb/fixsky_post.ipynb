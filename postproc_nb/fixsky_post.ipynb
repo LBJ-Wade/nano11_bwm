{
 "cells": [
  {
   "cell_type": "code",
   "execution_count": null,
   "metadata": {
    "collapsed": true
   },
   "outputs": [],
   "source": [
    "from __future__ import division, print_function\n",
    "\n",
    "import numpy as np\n",
    "import matplotlib.pyplot as plt\n",
    "\n",
    "from corner import corner\n",
    "from acor import acor\n",
    "from UL_uncert import UL_uncert\n",
    "\n",
    "%matplotlib inline"
   ]
  },
  {
   "cell_type": "code",
   "execution_count": null,
   "metadata": {
    "collapsed": true
   },
   "outputs": [],
   "source": [
    "ephem = 'DE421'\n",
    "rundir = '/home/pbaker/nanograv/bwm/tests/fixsky/'"
   ]
  },
  {
   "cell_type": "code",
   "execution_count": null,
   "metadata": {
    "collapsed": true
   },
   "outputs": [],
   "source": [
    "# this changes depending on which \"names\" are used in enterprise....\n",
    "\n",
    "with open(rundir + 'params.txt', 'r') as f:\n",
    "    params = [line.rstrip('\\n') for line in f]\n",
    "\n",
    "params = params[-3:]\n",
    "idx_A = 0\n",
    "idx_t0 = 2"
   ]
  },
  {
   "cell_type": "code",
   "execution_count": null,
   "metadata": {
    "collapsed": false
   },
   "outputs": [],
   "source": [
    "chain_raw = np.loadtxt(rundir + 'chain_1.txt')\n",
    "burn = int(0.1 * len(chain_raw))\n",
    "chain = chain_raw[burn:]    \n",
    "chain_bwm = chain[:,-7:-4]  # no ephem model\n",
    "\n",
    "# de-log x-axis for ULs\n",
    "#chain_bwm[:,idx_A] = 10**chain_bwm[:,idx_A]\n",
    "#params[idx_A] = r'$A_\\mathrm{BwM}$'\n",
    "    \n",
    "corr = acor(chain_bwm[:,idx_A])[0]\n",
    "N = len(chain_bwm)\n",
    "print(ephem)\n",
    "print(\"N = {}, corr = {}, Neff = {}\".format(N, corr, N/corr))"
   ]
  },
  {
   "cell_type": "code",
   "execution_count": null,
   "metadata": {
    "collapsed": false
   },
   "outputs": [],
   "source": [
    "corner_kwargs = {'bins':30,\n",
    "                 'labels':params,\n",
    "                 'smooth':1.0,\n",
    "                 'plot_datapoints':True,\n",
    "                 'plot_density':False,\n",
    "                 'plot_contours':False,\n",
    "                 'fill_contours':False,}\n",
    "\n",
    "fig = corner(chain_bwm, color='C0', **corner_kwargs);"
   ]
  },
  {
   "cell_type": "code",
   "execution_count": null,
   "metadata": {
    "collapsed": false
   },
   "outputs": [],
   "source": [
    "ax = []\n",
    "fig = plt.figure(figsize=(20,12))\n",
    "\n",
    "for pp, par in enumerate(params):\n",
    "    ax.append(fig.add_subplot(2,3,pp+1))\n",
    "    ax[pp].hist(chain_bwm[:,pp], 30, normed=True, histtype='step', label=ephem)\n",
    "    ax[pp].set_xlabel(par)\n",
    "\n",
    "ax[0].legend(loc='upper left')\n",
    "ax[idx_A].set_yscale('log')\n",
    "ax[idx_t0].set_yscale('log')"
   ]
  },
  {
   "cell_type": "code",
   "execution_count": null,
   "metadata": {
    "collapsed": false
   },
   "outputs": [],
   "source": [
    "from matplotlib.colors import LogNorm\n",
    "lognorm = LogNorm()\n",
    "\n",
    "hist_kwargs = {'bins':50,\n",
    "               'normed':True,\n",
    "               'cmap':'YlOrRd',\n",
    "               #'vmin':1.0e5,\n",
    "               #'vmax':1.0e10,\n",
    "               'norm':lognorm,\n",
    "                }\n",
    "\n",
    "fig = plt.figure(figsize=(8,4))\n",
    "ax = fig.add_subplot(111)\n",
    "\n",
    "t0_ch = chain_bwm[:,idx_t0]\n",
    "if max(chain_bwm[:,idx_A])>0:\n",
    "    h_ch = np.log10(chain_bwm[:,idx_A])\n",
    "else:\n",
    "    h_ch = chain_bwm[:,idx_A]\n",
    "    \n",
    "ax.hist2d(t0_ch, h_ch, **hist_kwargs)\n",
    "ax.set_xlabel(r'$t_0$ (MJD)')\n",
    "ax.set_ylabel(r'$\\log_{10}(A_{BWM})$')\n",
    "ax.set_ylim([-18,-11])"
   ]
  },
  {
   "cell_type": "code",
   "execution_count": null,
   "metadata": {
    "collapsed": true
   },
   "outputs": [],
   "source": []
  }
 ],
 "metadata": {
  "anaconda-cloud": {},
  "kernelspec": {
   "display_name": "Python [default]",
   "language": "python",
   "name": "python2"
  },
  "language_info": {
   "codemirror_mode": {
    "name": "ipython",
    "version": 2
   },
   "file_extension": ".py",
   "mimetype": "text/x-python",
   "name": "python",
   "nbconvert_exporter": "python",
   "pygments_lexer": "ipython2",
   "version": "2.7.12"
  }
 },
 "nbformat": 4,
 "nbformat_minor": 2
}
