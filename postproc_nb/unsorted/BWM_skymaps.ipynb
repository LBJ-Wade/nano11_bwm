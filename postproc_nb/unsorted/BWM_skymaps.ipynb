{
 "cells": [
  {
   "cell_type": "code",
   "execution_count": 1,
   "metadata": {},
   "outputs": [],
   "source": [
    "import numpy as np\n",
    "import healpy as hp\n",
    "import glob\n",
    "import matplotlib.pyplot as plt\n",
    "\n",
    "from enterprise.pulsar import Pulsar\n",
    "import skyplot_tools as spt\n",
    "\n",
    "%matplotlib inline"
   ]
  },
  {
   "cell_type": "code",
   "execution_count": 2,
   "metadata": {},
   "outputs": [],
   "source": [
    "golden_ratio = (np.sqrt(5.0)-1.0)/2.0"
   ]
  },
  {
   "cell_type": "code",
   "execution_count": null,
   "metadata": {},
   "outputs": [],
   "source": [
    "def get_figsize(scale):\n",
    "    fig_width_pt = 513.17 #469.755    # Get this from LaTeX using \\the\\textwidth\n",
    "    inches_per_pt = 1.0 / 72.27         # Convert pt to inch\n",
    "    fig_width = fig_width_pt * inches_per_pt * scale  # width in inches\n",
    "    fig_height = fig_width * golden_ratio             # height in inches\n",
    "    fig_size = [fig_width, fig_height]\n",
    "    return fig_size"
   ]
  },
  {
   "cell_type": "code",
   "execution_count": null,
   "metadata": {},
   "outputs": [],
   "source": [
    "plt.rcParams.update(plt.rcParamsDefault)\n",
    "params = {'backend': 'pdf',\n",
    "          'figure.figsize': get_figsize(0.5),\n",
    "          'axes.labelsize': 10,\n",
    "          'lines.markersize': 4,\n",
    "          'font.size': 10,\n",
    "          'xtick.major.size':6,\n",
    "          'xtick.minor.size':3,\n",
    "          'ytick.major.size':6,\n",
    "          'ytick.minor.size':3,\n",
    "          'xtick.major.width':0.5,\n",
    "          'ytick.major.width':0.5,\n",
    "          'xtick.minor.width':0.5,\n",
    "          'ytick.minor.width':0.5,\n",
    "          'lines.markeredgewidth':1,\n",
    "          'axes.linewidth':1.2,\n",
    "          'legend.fontsize': 7,\n",
    "          'xtick.labelsize': 10,\n",
    "          'ytick.labelsize': 10,\n",
    "          'savefig.dpi':200,\n",
    "          'path.simplify':True,\n",
    "          #'font.family': 'serif',\n",
    "          #'font.serif':'Times',\n",
    "          'text.latex.preamble': [r'\\usepackage{amsmath}'],\n",
    "          'text.usetex':True}\n",
    "\n",
    "plt.rcParams.update(params)"
   ]
  },
  {
   "cell_type": "code",
   "execution_count": 4,
   "metadata": {},
   "outputs": [],
   "source": [
    "#The pulsars we'll be analyzing\n",
    "psrlist = ['J1713+0747',\n",
    "           'J1909-3744',\n",
    "           'J1640+2224',\n",
    "           'J1600-3053',\n",
    "           'J2317+1439',\n",
    "           'J1918-0642',\n",
    "           'J1614-2230',\n",
    "           'J1744-1134',\n",
    "           'J0030+0451',\n",
    "           'J2145-0750',\n",
    "           'J1857+0943',\n",
    "           'J1853+1303',\n",
    "           'J0613-0200',\n",
    "           'J1455-3330',\n",
    "           'J1741+1351',\n",
    "           'J2010-1323',\n",
    "           'J1024-0719',\n",
    "           'J1012+5307',\n",
    "#           'J0437-4715',\n",
    "#           'J0034-0534',\n",
    "          ]"
   ]
  },
  {
   "cell_type": "code",
   "execution_count": 4,
   "metadata": {},
   "outputs": [],
   "source": [
    "datadir = '/home/pbaker/nanograv/data/nano11'\n",
    "ephem = 'DE436'\n",
    "\n",
    "with open(datadir + '/11yr_34.txt', 'r') as f:\n",
    "    psrlist = [line.strip() for line in f]"
   ]
  },
  {
   "cell_type": "markdown",
   "metadata": {},
   "source": [
    "# get PSR locations\n",
    "\n",
    "ONLY NEED TO DO ONCE PER psrlist"
   ]
  },
  {
   "cell_type": "code",
   "execution_count": 5,
   "metadata": {},
   "outputs": [
    {
     "name": "stdout",
     "output_type": "stream",
     "text": [
      "WARNING: Could not find pulsar distance for PSR J0023+0923. Setting value to 1 with 20% uncertainty.\n",
      "WARNING: Could not find pulsar distance for PSR J0340+4130. Setting value to 1 with 20% uncertainty.\n",
      "WARNING: Could not find pulsar distance for PSR J0645+5158. Setting value to 1 with 20% uncertainty.\n",
      "WARNING: Could not find pulsar distance for PSR J1614-2230. Setting value to 1 with 20% uncertainty.\n",
      "WARNING: Could not find pulsar distance for PSR J1738+0333. Setting value to 1 with 20% uncertainty.\n",
      "WARNING: Could not find pulsar distance for PSR J1741+1351. Setting value to 1 with 20% uncertainty.\n",
      "WARNING: Could not find pulsar distance for PSR J1747-4036. Setting value to 1 with 20% uncertainty.\n",
      "WARNING: Could not find pulsar distance for PSR J1853+1303. Setting value to 1 with 20% uncertainty.\n",
      "WARNING: Could not find pulsar distance for PSR J1903+0327. Setting value to 1 with 20% uncertainty.\n",
      "WARNING: Could not find pulsar distance for PSR J1923+2515. Setting value to 1 with 20% uncertainty.\n",
      "WARNING: Could not find pulsar distance for PSR J1944+0907. Setting value to 1 with 20% uncertainty.\n",
      "WARNING: Could not find pulsar distance for PSR J2010-1323. Setting value to 1 with 20% uncertainty.\n",
      "WARNING: Could not find pulsar distance for PSR J2017+0603. Setting value to 1 with 20% uncertainty.\n",
      "WARNING: Could not find pulsar distance for PSR J2043+1711. Setting value to 1 with 20% uncertainty.\n",
      "WARNING: Could not find pulsar distance for PSR J2214+3000. Setting value to 1 with 20% uncertainty.\n",
      "WARNING: Could not find pulsar distance for PSR J2302+4442. Setting value to 1 with 20% uncertainty.\n"
     ]
    }
   ],
   "source": [
    "parfiles = sorted(glob.glob(datadir + '/*.par'))\n",
    "timfiles = sorted(glob.glob(datadir + '/*.tim'))\n",
    "\n",
    "# filter\n",
    "parfiles = [x for x in parfiles if x.split('/')[-1].split('_')[0] in psrlist]\n",
    "timfiles = [x for x in timfiles if x.split('/')[-1].split('_')[0] in psrlist]\n",
    "\n",
    "psrs = []\n",
    "for p, t in zip(parfiles, timfiles):\n",
    "    psr = Pulsar(p, t, ephem=ephem)\n",
    "    psrs.append(psr)"
   ]
  },
  {
   "cell_type": "code",
   "execution_count": 6,
   "metadata": {},
   "outputs": [],
   "source": [
    "with open('11yr_locs.txt', 'w') as f:\n",
    "    for p in psrs:\n",
    "        phi = p.phi\n",
    "        theta = np.pi/2 - p.theta\n",
    "        f.write('{:s} {:f} {:f}\\n'.format(p.name, phi, theta))"
   ]
  },
  {
   "cell_type": "markdown",
   "metadata": {},
   "source": [
    "# Plot"
   ]
  },
  {
   "cell_type": "code",
   "execution_count": 7,
   "metadata": {},
   "outputs": [],
   "source": [
    "psr_dict = {}\n",
    "with open('11yr_locs.txt', 'r') as f:\n",
    "    for line in f:\n",
    "        line = line.split()\n",
    "        psr_dict[line[0]] = [float(line[1]), float(line[2])]\n",
    "    \n",
    "psr_locs = []\n",
    "for p in psrlist:\n",
    "    psr_locs.append(psr_dict[p])\n",
    "psr_locs = np.array(psr_locs)"
   ]
  },
  {
   "cell_type": "code",
   "execution_count": 12,
   "metadata": {},
   "outputs": [],
   "source": [
    "nside = 8 #corresponds to 768 pixels\n",
    "npix = hp.nside2npix(nside)"
   ]
  },
  {
   "cell_type": "code",
   "execution_count": 14,
   "metadata": {},
   "outputs": [
    {
     "name": "stdout",
     "output_type": "stream",
     "text": [
      "Sigma is 729.938319 arcmin (0.212330 rad) \n",
      "-> fwhm is 1718.873385 arcmin\n",
      "Sigma is 0.000000 arcmin (0.000000 rad) \n",
      "-> fwhm is 0.000000 arcmin\n"
     ]
    }
   ],
   "source": [
    "rundir = '/home/pbaker/nanograv/bwm/fixsky/latetime_BE/'\n",
    "run, skymap, Ns, cors = np.loadtxt(rundir+'ULs.dat').T\n",
    "skymap_smooth = hp.smoothing(skymap, 0.5)"
   ]
  },
  {
   "cell_type": "code",
   "execution_count": 15,
   "metadata": {},
   "outputs": [
    {
     "name": "stdout",
     "output_type": "stream",
     "text": [
      "min(N) = 52785.000000, best UL = 1.092e-14\n"
     ]
    }
   ],
   "source": [
    "ibest = np.argmin(skymap)\n",
    "best = skymap[ibest]\n",
    "\n",
    "print(\"min(N) = {:f}, best UL = {:.3e}\".format(min(Ns), 10**best))\n",
    "\n",
    "best_theta, best_phi = hp.pix2ang(nside,ibest)\n",
    "best_theta = np.pi/2 - best_theta"
   ]
  },
  {
   "cell_type": "code",
   "execution_count": 16,
   "metadata": {},
   "outputs": [
    {
     "name": "stdout",
     "output_type": "stream",
     "text": [
      "-0.08343008661061502 -0.08333333333333334 4.516039439535327\n"
     ]
    }
   ],
   "source": [
    "print(best_theta, np.sin(best_theta), best_phi)"
   ]
  },
  {
   "cell_type": "code",
   "execution_count": 25,
   "metadata": {},
   "outputs": [
    {
     "name": "stdout",
     "output_type": "stream",
     "text": [
      "325 0.4231770833333333\n"
     ]
    }
   ],
   "source": [
    "count = sum(skymap < np.log10(2.4e-14))\n",
    "print(count, count/768)"
   ]
  },
  {
   "cell_type": "code",
   "execution_count": null,
   "metadata": {},
   "outputs": [],
   "source": [
    "ibest"
   ]
  },
  {
   "cell_type": "code",
   "execution_count": null,
   "metadata": {},
   "outputs": [],
   "source": [
    "iworst = np.argmax(skymap)\n",
    "\n",
    "w_theta, w_phi = hp.pix2ang(nside, iworst)\n",
    "w_theta = np.pi/2 - w_theta\n",
    "iworst"
   ]
  },
  {
   "cell_type": "code",
   "execution_count": null,
   "metadata": {},
   "outputs": [],
   "source": []
  },
  {
   "cell_type": "code",
   "execution_count": null,
   "metadata": {},
   "outputs": [],
   "source": [
    "print(np.min(skymap), np.max(skymap))"
   ]
  },
  {
   "cell_type": "code",
   "execution_count": null,
   "metadata": {},
   "outputs": [],
   "source": [
    "#plt.rcParams.update(plt.rcParamsDefault)\n",
    "\n",
    "sz = 11  # 7\n",
    "\n",
    "plt.close('all')\n",
    "plt.figure(0, figsize=(sz, sz*golden_ratio))\n",
    "ax = plt.subplot(111, projection='astro mollweide')\n",
    "ax.grid()\n",
    "spt.outline_text(ax)\n",
    "\n",
    "spt.healpix_heatmap(skymap, cmap='viridis_r', vmin=-14, vmax=-12.95)\n",
    "\n",
    "ax.scatter(psr_locs[:,0], psr_locs[:,1],\n",
    "           s=256, marker='*', c='w', edgecolors='k', alpha=0.9)\n",
    "#           marker='*', color='w', markersize=12, mew=1.0, mec='k', alpha=0.9)\n",
    "#ax.plot(best_phi, best_theta,\n",
    "#        '.', color='r', markersize=10, mew=1.0, mec='k', alpha=0.9)\n",
    "\n",
    "#ax.set_title(r'11yr BWM ULs')\n",
    "\n",
    "cbar = plt.colorbar(orientation='horizontal', pad=0.05)\n",
    "plt.suptitle(r'$95\\%$ Characteristic Strain Upper Limit, $h_{95}$', y=0.0, fontsize=20)\n",
    "plt.grid(linestyle='dotted', color='k')\n",
    "plt.tight_layout()\n",
    "#plt.savefig('/home/pbaker/skymap1.pdf')\n",
    "plt.show()"
   ]
  },
  {
   "cell_type": "code",
   "execution_count": null,
   "metadata": {},
   "outputs": [],
   "source": [
    "from matplotlib.colors import LogNorm\n",
    "zmin = 1e-14\n",
    "zmax = 1.2e-13\n",
    "skymap_exp = 10**skymap\n",
    "norm=LogNorm(vmin=zmin, vmax=zmax)\n",
    "\n",
    "plt.close('all')\n",
    "plt.figure(0, figsize=(7, 5))#7*golden_ratio))\n",
    "ax = plt.subplot(111, projection='astro mollweide')\n",
    "ax.grid()\n",
    "spt.outline_text(ax)\n",
    "\n",
    "spt.healpix_heatmap(skymap_exp, cmap='viridis_r', norm=LogNorm(vmin=zmin, vmax=zmax))\n",
    "\n",
    "ax.plot(psr_locs[:,0], psr_locs[:,1],\n",
    "        '*', color='w', markersize=12, mew=1.0, mec='k', alpha=0.9)\n",
    "#ax.plot(best_phi, best_theta,\n",
    "#        '.', color='r', markersize=10, mew=1.0, mec='k', alpha=0.9)\n",
    "\n",
    "#ax.set_title(r'11yr BWM ULs')\n",
    "\n",
    "cbar = plt.colorbar(orientation='horizontal', pad=0.05)\n",
    "plt.suptitle(r'$95\\%$ Characteristic Strain Upper Limit, $h_{95}$', y=0.05)\n",
    "plt.grid(linestyle='dotted', color='k')\n",
    "plt.tight_layout()\n",
    "plt.savefig('/home/pbaker/skymap2.pdf')\n",
    "plt.show()"
   ]
  },
  {
   "cell_type": "code",
   "execution_count": null,
   "metadata": {},
   "outputs": [],
   "source": []
  },
  {
   "cell_type": "code",
   "execution_count": null,
   "metadata": {},
   "outputs": [],
   "source": []
  },
  {
   "cell_type": "code",
   "execution_count": null,
   "metadata": {},
   "outputs": [],
   "source": []
  },
  {
   "cell_type": "code",
   "execution_count": null,
   "metadata": {},
   "outputs": [],
   "source": [
    "plt.close('all')\n",
    "plt.figure(1)\n",
    "ax = plt.subplot(111, projection='astro mollweide')\n",
    "ax.grid()\n",
    "spt.outline_text(ax)\n",
    "\n",
    "spt.healpix_heatmap(skymap_smooth)\n",
    "\n",
    "ax.plot(psr_locs[:,0], psr_locs[:,1], '*', color='w', markersize=10, mew=1.0, mec='k', alpha=0.9)    \n",
    "ax.set_title(r'11yr BWM UL')\n",
    "\n",
    "plt.colorbar(orientation='horizontal')\n",
    "plt.suptitle(r'95\\% Characteristic Strain Upper Limit, $A_{95}$', y=0.0)\n",
    "plt.grid(linestyle='dotted', color='k')\n",
    "plt.tight_layout()\n",
    "plt.savefig('/home/pbaker/skymap_smooth.pdf')"
   ]
  },
  {
   "cell_type": "code",
   "execution_count": null,
   "metadata": {},
   "outputs": [],
   "source": []
  },
  {
   "cell_type": "code",
   "execution_count": null,
   "metadata": {},
   "outputs": [],
   "source": [
    "plt.close('all')\n",
    "plt.figure(0)\n",
    "ax = plt.subplot(111, projection='astro mollweide')\n",
    "ax.grid()\n",
    "spt.outline_text(ax)\n",
    "\n",
    "spt.healpix_heatmap(skymap)\n",
    "\n",
    "ax.plot(psr_locs[:,0], psr_locs[:,1], '*', color='w', markersize=10, mew=1.0, mec='k', alpha=0.9)\n",
    "ax.plot(best_phi, best_theta, '.', color='r', markersize=10, mew=1.0, mec='k', alpha=0.9)\n",
    "ax.set_title(r'11yr BWM ULs')\n",
    "\n",
    "ax.annotate('J1744-1134', xy=(4.7, -0.22), xytext=(6, -0.6), backgroundcolor='w',\n",
    "            arrowprops=dict(color='w', shrink=0.02, width=2),\n",
    "            )\n",
    "\n",
    "plt.colorbar(orientation='horizontal')\n",
    "plt.suptitle(r'95\\% Characteristic Strain Upper Limit, $A_{95}$', y=0.0)\n",
    "plt.grid(linestyle='dotted', color='k')\n",
    "plt.tight_layout()\n",
    "plt.savefig('/home/pbaker/skymap_arrow.pdf')\n",
    "plt.show()"
   ]
  },
  {
   "cell_type": "code",
   "execution_count": null,
   "metadata": {},
   "outputs": [],
   "source": []
  },
  {
   "cell_type": "code",
   "execution_count": null,
   "metadata": {},
   "outputs": [],
   "source": []
  },
  {
   "cell_type": "code",
   "execution_count": null,
   "metadata": {},
   "outputs": [],
   "source": []
  },
  {
   "cell_type": "code",
   "execution_count": null,
   "metadata": {},
   "outputs": [],
   "source": [
    "import astropy\n",
    "from astropy.time import Time"
   ]
  },
  {
   "cell_type": "code",
   "execution_count": null,
   "metadata": {},
   "outputs": [],
   "source": [
    "ts = [56000, 57000]\n",
    "\n",
    "a=Time(ts,format='mjd')"
   ]
  },
  {
   "cell_type": "code",
   "execution_count": null,
   "metadata": {},
   "outputs": [],
   "source": [
    "a.decimalyear"
   ]
  },
  {
   "cell_type": "code",
   "execution_count": null,
   "metadata": {},
   "outputs": [],
   "source": []
  }
 ],
 "metadata": {
  "kernelspec": {
   "display_name": "Python 3",
   "language": "python",
   "name": "python3"
  },
  "language_info": {
   "codemirror_mode": {
    "name": "ipython",
    "version": 3
   },
   "file_extension": ".py",
   "mimetype": "text/x-python",
   "name": "python",
   "nbconvert_exporter": "python",
   "pygments_lexer": "ipython3",
   "version": "3.6.8"
  }
 },
 "nbformat": 4,
 "nbformat_minor": 1
}
