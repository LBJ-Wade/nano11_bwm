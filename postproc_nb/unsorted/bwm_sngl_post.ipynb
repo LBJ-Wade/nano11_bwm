{
 "cells": [
  {
   "cell_type": "code",
   "execution_count": 1,
   "metadata": {},
   "outputs": [],
   "source": [
    "from __future__ import (absolute_import, division,\n",
    "                        print_function, unicode_literals)\n",
    "import os\n",
    "import numpy as np\n",
    "import pandas as pd\n",
    "import matplotlib.pyplot as plt\n",
    "\n",
    "from corner import corner\n",
    "from acor import acor\n",
    "from utils.UL_uncert import UL_uncert\n",
    "\n",
    "from matplotlib.colors import LogNorm\n",
    "\n",
    "%matplotlib inline\n",
    "\n",
    "def trace_plot(chain, pars,\n",
    "               cols=3, wid_per_col=4, aspect=4/3,\n",
    "               kwargs={}):\n",
    "\n",
    "    rows = len(pars)//cols\n",
    "    if rows*cols < len(pars):\n",
    "        rows += 1\n",
    "\n",
    "    ax = []\n",
    "    width = wid_per_col * cols\n",
    "    height = wid_per_col * rows / aspect\n",
    "    fig = plt.figure(figsize=(width, height))\n",
    "\n",
    "    for pp, par in enumerate(pars):\n",
    "        ax.append(fig.add_subplot(rows, cols, pp+1))\n",
    "        ax[pp].plot(chain[:,pp], **kwargs)\n",
    "        ax[pp].set_xlabel(par)\n",
    "    plt.tight_layout()\n",
    "    return fig\n",
    "\n",
    "\n",
    "def hist_plot(chain, pars, bins=30,\n",
    "              cols=3, wid_per_col=4, aspect=4/3,\n",
    "              kwargs={}):\n",
    "    hist_kwargs = {\n",
    "        'density':True,\n",
    "        'histtype':'step',\n",
    "    }\n",
    "    for key, val in kwargs.items():\n",
    "        hist_kwargs[key] = val\n",
    "\n",
    "    rows = len(pars)//cols\n",
    "    if rows*cols < len(pars):\n",
    "        rows += 1\n",
    "\n",
    "    ax = []\n",
    "    width = wid_per_col * cols\n",
    "    height = wid_per_col * rows / aspect\n",
    "    fig = plt.figure(figsize=(width, height))\n",
    "\n",
    "    for pp, par in enumerate(pars):\n",
    "        ax.append(fig.add_subplot(rows, cols, pp+1))\n",
    "        ax[pp].hist(chain[:,pp], bins=bins, **hist_kwargs)\n",
    "        ax[pp].set_xlabel(par)\n",
    "    plt.tight_layout()\n",
    "    return fig\n",
    "\n",
    "def bayes_fac(samples, Nmin=200, logAmin=-18, logAmax=-9,\n",
    "              dAmin=0.01, dAmax=0.5):\n",
    "    \"\"\"\n",
    "    Computes the Savage Dickey Bayes Factor and uncertainty.\n",
    "\n",
    "    :param samples: MCMC samples of GWB (or common red noise) amplitude\n",
    "    :param ntol: Tolerance on number of samples in bin\n",
    "\n",
    "    :returns: (bayes factor, 1-sigma bayes factor uncertainty)\n",
    "    \"\"\"\n",
    "\n",
    "    prior = 1 / (logAmax - logAmin)\n",
    "    dA = np.linspace(dAmin, dAmax, 100)\n",
    "    bf = []\n",
    "    bf_err = []\n",
    "    mask = [] # selecting bins with more than 200 samples\n",
    "\n",
    "    for ii, delta in enumerate(dA):\n",
    "        n = np.sum(samples <= (logAmin + delta))\n",
    "        N = len(samples)\n",
    "\n",
    "        post = n / N / delta\n",
    "\n",
    "        bf.append(prior/post)\n",
    "        bf_err.append(bf[ii]/np.sqrt(n))\n",
    "\n",
    "        if n > Nmin:\n",
    "            mask.append(ii)\n",
    "\n",
    "    return np.mean(np.array(bf)[mask]), np.std(np.array(bf)[mask])"
   ]
  },
  {
   "cell_type": "code",
   "execution_count": 2,
   "metadata": {},
   "outputs": [],
   "source": [
    "TMIN = 53217.0\n",
    "TMAX = 57387.0\n",
    "tchunk = np.linspace(TMIN, TMAX, 41)  # break in 2.5% chunks\n",
    "tlim = []\n",
    "for ii in range(len(tchunk)-2):\n",
    "    tlim.append(tchunk[ii:ii+3])"
   ]
  },
  {
   "cell_type": "code",
   "execution_count": 3,
   "metadata": {},
   "outputs": [],
   "source": [
    "psrlist = '/home/pbaker/nanograv/data/nano11/11yr_34.txt'\n",
    "with open(psrlist, 'r') as f:\n",
    "    all_psrs = [line.strip() for line in f]\n",
    "all_psrs.sort()"
   ]
  },
  {
   "cell_type": "markdown",
   "metadata": {},
   "source": [
    "# detection runs"
   ]
  },
  {
   "cell_type": "markdown",
   "metadata": {},
   "source": [
    "## try out a particular pulsar"
   ]
  },
  {
   "cell_type": "code",
   "execution_count": null,
   "metadata": {},
   "outputs": [],
   "source": [
    "# the three w/ BF > 1\n",
    "psr = 'J1744-1134'\n",
    "#psr = 'J1747-4036'\n",
    "#psr = 'J1909-3744'\n",
    "\n",
    "ephem = 'DE436'\n",
    "\n",
    "rundir = '/home/pbaker/nanograv/bwm/sngl/detect_{0:s}/{1:s}/'.format(ephem, psr)"
   ]
  },
  {
   "cell_type": "code",
   "execution_count": null,
   "metadata": {},
   "outputs": [],
   "source": [
    "with open(rundir + 'params.txt', 'r') as f:\n",
    "    params = [line.rstrip('\\n') for line in f]\n",
    "\n",
    "# get just bwm params\n",
    "par_bwm = []\n",
    "for par in params:\n",
    "    if par.startswith('bwm_'):\n",
    "        par_bwm.append(par)\n",
    "idx_bwm = [params.index(p) for p in par_bwm]\n",
    "idx_A = par_bwm.index('bwm_log10_A')\n",
    "idx_t0 = par_bwm.index('bwm_t0')"
   ]
  },
  {
   "cell_type": "code",
   "execution_count": null,
   "metadata": {},
   "outputs": [],
   "source": [
    "chain_raw = pd.read_csv(rundir + 'chain_1.txt',\n",
    "                        sep='\\t', dtype=float, header=None).values"
   ]
  },
  {
   "cell_type": "code",
   "execution_count": null,
   "metadata": {},
   "outputs": [],
   "source": [
    "burnfrac = 0.10\n",
    "thin = 20\n",
    "\n",
    "burn = int(burnfrac * len(chain_raw))\n",
    "chain = chain_raw[burn::thin]\n",
    "\n",
    "chain_bwm = chain[:,idx_bwm]\n",
    "chain_L = chain[:,-4]\n",
    "\n",
    "corL = acor(chain_L)[0]\n",
    "N = len(chain_bwm)\n",
    "print(\"N = {}, corL = {}\".format(N, corL))"
   ]
  },
  {
   "cell_type": "code",
   "execution_count": null,
   "metadata": {},
   "outputs": [],
   "source": [
    "ch_plt = np.hstack([chain_bwm, chain_L.reshape(N,1)])\n",
    "par_plt = par_bwm + ['logL']\n",
    "\n",
    "trace_plot(ch_plt, par_plt, cols=3, wid_per_col=4);"
   ]
  },
  {
   "cell_type": "code",
   "execution_count": null,
   "metadata": {},
   "outputs": [],
   "source": [
    "fig = hist_plot(ch_plt, par_plt, cols=3, wid_per_col=4)\n",
    "for ax in fig.axes:\n",
    "    ax.set_yscale('log')"
   ]
  },
  {
   "cell_type": "code",
   "execution_count": null,
   "metadata": {},
   "outputs": [],
   "source": [
    "from astropy.time import Time\n",
    "\n",
    "lognorm = LogNorm()\n",
    "Tmin, Tmax = Time([TMIN,TMAX], format='mjd').decimalyear\n",
    "\n",
    "hist_kwargs = {'bins':30,\n",
    "               'normed':True,\n",
    "               'cmap':'Blues',\n",
    "               #'vmin':1.0e5,\n",
    "               #'vmax':1.0e10,\n",
    "               'norm':lognorm,\n",
    "                }\n",
    "\n",
    "fig = plt.figure(figsize=(6,4))\n",
    "ax = fig.add_subplot(111)\n",
    "\n",
    "t_ch = Time(chain_bwm[:,idx_t0], format='mjd').decimalyear\n",
    "logA_ch = chain_bwm[:,idx_A]\n",
    "A_ch = 10**logA_ch\n",
    "    \n",
    "ax.hist2d(t_ch, logA_ch, **hist_kwargs)\n",
    "\n",
    "#if ii_t:\n",
    "#    ax.axvline(x=tmin, color='k', linestyle=':')\n",
    "#    ax.axvline(x=tmax, color='k', linestyle=':')\n",
    "\n",
    "ax.set_xlabel(r'$t_0$ (MJD)')\n",
    "ax.set_ylabel(r'$\\log_{10}(A_{BWM})$')\n",
    "ax.set_ylim([-18,-9])\n",
    "ax.set_xlim([Tmin, Tmax])\n",
    "#ax.set_title('{:.1f} yr timeslice (w/ dropout)'.format(slice_yr))"
   ]
  },
  {
   "cell_type": "code",
   "execution_count": null,
   "metadata": {},
   "outputs": [],
   "source": [
    "BF, dBF = bayes_fac(chain_bwm[:,idx_A], Nmin=50)"
   ]
  },
  {
   "cell_type": "code",
   "execution_count": null,
   "metadata": {},
   "outputs": [],
   "source": [
    "corner_kwargs = {'bins':30,\n",
    "                 'show_titles':True,\n",
    "                 'labels':par_bwm,\n",
    "                 'smooth':0.5,\n",
    "                 'plot_datapoints':False,\n",
    "                 'plot_density':True,\n",
    "                 'plot_contours':True,\n",
    "                 'fill_contours':False,}\n",
    "\n",
    "fig = corner(chain_bwm, color='C0', **corner_kwargs);\n",
    "fig.suptitle(\"{:s} -- BF = {:.3f}\".format(psr, BF), fontsize=20);"
   ]
  },
  {
   "cell_type": "markdown",
   "metadata": {},
   "source": [
    "## t-posterior for all BF > 1"
   ]
  },
  {
   "cell_type": "code",
   "execution_count": null,
   "metadata": {},
   "outputs": [],
   "source": [
    "# the three w/ BF > 1\n",
    "PSRs = ['J1744-1134',\n",
    "        'J1747-4036',\n",
    "        'J1909-3744']\n",
    "ephem = 'DE436'\n",
    "burnfrac = 0.10\n",
    "thin = 200\n",
    "\n",
    "ch_dict = {}\n",
    "for psr in PSRs:\n",
    "    rundir = '/home/pbaker/nanograv/bwm/sngl/detect_{0:s}/{1:s}/'.format(ephem, psr)\n",
    "    \n",
    "    # get t0 index\n",
    "    with open(rundir + 'params.txt', 'r') as f:\n",
    "        params = [line.rstrip('\\n') for line in f]\n",
    "    idx_t0 = params.index('bwm_t0')\n",
    "    \n",
    "    chain_raw = pd.read_csv(rundir + 'chain_1.txt',\n",
    "                        sep='\\t', dtype=float, header=None).values\n",
    "    burn = int(burnfrac * len(chain_raw))\n",
    "    ch_t = Time(chain_raw[burn::thin, idx_t0], format='mjd').decimalyear\n",
    "\n",
    "    N = len(ch_t)\n",
    "    corL = acor(chain_raw[:,-5])[0]\n",
    "    print(\"{} -- N = {}, corL = {}\".format(psr, N, corL))\n",
    "    ch_dict[psr] = ch_t"
   ]
  },
  {
   "cell_type": "code",
   "execution_count": null,
   "metadata": {},
   "outputs": [],
   "source": [
    "Tmin = np.min([ch.min() for ch in ch_dict.values()])\n",
    "Tmax = np.max([ch.max() for ch in ch_dict.values()])\n",
    "myBins = np.linspace(Tmin, Tmax, 41)"
   ]
  },
  {
   "cell_type": "code",
   "execution_count": null,
   "metadata": {},
   "outputs": [],
   "source": [
    "for psr, ch in ch_dict.items():\n",
    "    plt.hist(ch, bins=myBins, density=True, histtype='step', label=psr)\n",
    "plt.yscale('log')\n",
    "plt.legend()"
   ]
  },
  {
   "cell_type": "code",
   "execution_count": null,
   "metadata": {},
   "outputs": [],
   "source": [
    "rundir = '/home/pbaker/nanograv/bwm/allsky/DE436_BE/detection/'\n",
    "burnfrac = 0.10\n",
    "thin = 50\n",
    "\n",
    "# get t0 index\n",
    "with open(rundir + 'params.txt', 'r') as f:\n",
    "    params = [line.rstrip('\\n') for line in f]\n",
    "idx_t0 = params.index('bwm_t0')\n",
    "\n",
    "chain_raw = pd.read_csv(rundir + 'chain_1.txt',\n",
    "                        sep='\\t', dtype=float, header=None).values\n",
    "burn = int(burnfrac * len(chain_raw))\n",
    "ch11_t = Time(chain_raw[burn::thin, idx_t0], format='mjd').decimalyear\n",
    "\n",
    "N = len(ch_t)\n",
    "corL = acor(chain_raw[:,-5])[0]\n",
    "print(\"{} -- N = {}, corL = {}\".format(psr, N, corL))"
   ]
  },
  {
   "cell_type": "code",
   "execution_count": null,
   "metadata": {},
   "outputs": [],
   "source": [
    "for psr, ch in ch_dict.items():\n",
    "    plt.hist(ch, bins=myBins, density=True, histtype='step', label=psr)\n",
    "\n",
    "plt.hist(ch11_t, bins=myBins, density=True, histtype='step', color='k', label=\"Earth term\")\n",
    "plt.yscale('log')\n",
    "plt.legend()"
   ]
  },
  {
   "cell_type": "code",
   "execution_count": null,
   "metadata": {},
   "outputs": [],
   "source": [
    "np.histogram(ch11_t, bins=myBins, density=True)"
   ]
  },
  {
   "cell_type": "markdown",
   "metadata": {},
   "source": [
    "## compute BF for all pulsar terms!"
   ]
  },
  {
   "cell_type": "code",
   "execution_count": 4,
   "metadata": {},
   "outputs": [],
   "source": [
    "runroot = '/home/pbaker/nanograv/bwm/sngl/detect_DE436'\n",
    "bf_dict = {}\n",
    "\n",
    "burnfrac = 0.10\n",
    "thin = 20\n",
    "\n",
    "ii_A = 2"
   ]
  },
  {
   "cell_type": "code",
   "execution_count": 5,
   "metadata": {},
   "outputs": [
    {
     "name": "stdout",
     "output_type": "stream",
     "text": [
      "B1855+09\n",
      "  N = 145265, corL = 1.234061554087512\n",
      "  BF = 0.6479 +/- 0.0065\n",
      "B1937+21\n",
      "  N = 30411, corL = 1.0407255800063266\n",
      "  BF = 0.6132 +/- 0.0078\n",
      "B1953+29\n",
      "  N = 12047, corL = 0.921886947543087\n",
      "  BF = 0.6322 +/- 0.0156\n",
      "J0023+0923\n",
      "  N = 130734, corL = 1.000024748241849\n",
      "  BF = 0.5663 +/- 0.0076\n",
      "J0030+0451\n",
      "  N = 38687, corL = 0.9955248273008679\n",
      "  BF = 0.6190 +/- 0.0128\n",
      "J0340+4130\n",
      "  N = 14985, corL = 0.9777744258687306\n",
      "  BF = 0.5875 +/- 0.0231\n",
      "J0613-0200\n",
      "  N = 105642, corL = 1.2162444164336867\n",
      "  BF = 0.7169 +/- 0.0143\n",
      "J0645+5158\n",
      "  N = 12249, corL = 0.9715817364030425\n",
      "  BF = 0.5210 +/- 0.0057\n",
      "J1012+5307\n",
      "  N = 81059, corL = 1.394133440802989\n",
      "  BF = 0.9061 +/- 0.0268\n",
      "J1024-0719\n",
      "  N = 18572, corL = 1.0172178720565614\n",
      "  BF = 0.6341 +/- 0.0070\n",
      "J1455-3330\n",
      "  N = 12794, corL = 0.9877304021433615\n",
      "  BF = 0.5948 +/- 0.0194\n",
      "J1600-3053\n",
      "  N = 34916, corL = 1.0144482248894084\n",
      "  BF = 0.4638 +/- 0.0065\n",
      "J1614-2230\n",
      "  N = 12537, corL = 0.9812081360998155\n",
      "  BF = 0.4622 +/- 0.0097\n",
      "J1640+2224\n",
      "  N = 25862, corL = 0.9882348061557004\n",
      "  BF = 0.5328 +/- 0.0088\n",
      "J1643-1224\n",
      "  N = 75659, corL = 4.023883167621204\n",
      "  BF = 0.7490 +/- 0.0070\n",
      "J1713+0747\n",
      "  N = 79916, corL = 1.3117137645308208\n",
      "  BF = 0.5897 +/- 0.0079\n",
      "J1738+0333\n",
      "  N = 13334, corL = 0.9625291847077211\n",
      "  BF = 0.5901 +/- 0.0159\n",
      "J1741+1351\n",
      "  N = 11826, corL = 1.0658950013091266\n",
      "  BF = 0.4854 +/- 0.0133\n",
      "J1744-1134\n",
      "  N = 98312, corL = 3.915663187579141\n",
      "  BF = 3.5854 +/- 0.0379\n",
      "J1747-4036\n",
      "  N = 43758, corL = 4.567936959044231\n",
      "  BF = 1.6496 +/- 0.0243\n",
      "J1853+1303\n",
      "  N = 12447, corL = 0.9833411921525759\n",
      "  BF = 0.5000 +/- 0.0110\n",
      "J1903+0327\n",
      "  N = 19323, corL = 0.9578113894073818\n",
      "  BF = 0.6647 +/- 0.0107\n",
      "J1909-3744\n",
      "  N = 157496, corL = 5.738971942475773\n",
      "  BF = 1.3798 +/- 0.0126\n",
      "J1910+1256\n",
      "  N = 13235, corL = 1.1058731726795064\n",
      "  BF = 0.5732 +/- 0.0078\n",
      "J1918-0642\n",
      "  N = 22896, corL = 0.9791347867409531\n",
      "  BF = 0.4838 +/- 0.0052\n",
      "J1923+2515\n",
      "  N = 11898, corL = 1.0509758832987368\n",
      "  BF = 0.5348 +/- 0.0081\n",
      "J1944+0907\n",
      "  N = 22410, corL = 0.9798598145129548\n",
      "  BF = 0.6319 +/- 0.0182\n",
      "J2010-1323\n",
      "  N = 12776, corL = 0.9311177189758211\n",
      "  BF = 0.4970 +/- 0.0108\n",
      "J2017+0603\n",
      "  N = 12330, corL = 0.9275974020396218\n",
      "  BF = 0.5762 +/- 0.0149\n",
      "J2043+1711\n",
      "  N = 12348, corL = 1.0294806859322914\n",
      "  BF = 0.4627 +/- 0.0060\n",
      "J2145-0750\n",
      "  N = 68337, corL = 1.4351565048803165\n",
      "  BF = 0.9489 +/- 0.0111\n",
      "J2214+3000\n",
      "  N = 22581, corL = 0.9128768389248045\n",
      "  BF = 0.6081 +/- 0.0083\n",
      "J2302+4442\n",
      "  N = 15269, corL = 0.9416709775381175\n",
      "  BF = 0.6154 +/- 0.0077\n",
      "J2317+1439\n",
      "  N = 12177, corL = 0.9104838351085034\n",
      "  BF = 0.5058 +/- 0.0173\n"
     ]
    }
   ],
   "source": [
    "for psr in all_psrs:\n",
    "    rundir = os.path.join(runroot, psr)\n",
    "    chain_raw = pd.read_csv(rundir + '/chain_1.txt',\n",
    "                            sep='\\t', dtype=float, header=None).values\n",
    "\n",
    "    burn = int(burnfrac * len(chain_raw))\n",
    "    chain = chain_raw[burn::thin]\n",
    "\n",
    "    ch_A = chain[:, ii_A]\n",
    "\n",
    "    corA = acor(ch_A)[0]\n",
    "    N = len(ch_A)\n",
    "    BF = bayes_fac(ch_A)\n",
    "    print(psr)\n",
    "    print(\"  N = {}, corL = {}\".format(N, corA))\n",
    "    print(\"  BF = {:.4f} +/- {:.4f}\".format(*BF))\n",
    "    bf_dict[psr] = BF[0]"
   ]
  },
  {
   "cell_type": "code",
   "execution_count": 6,
   "metadata": {},
   "outputs": [],
   "source": [
    "import json\n",
    "\n",
    "out = os.path.join(runroot, \"sngl_BF.json\")\n",
    "with open(out, 'w') as f:\n",
    "    json.dump(bf_dict, f)"
   ]
  },
  {
   "cell_type": "code",
   "execution_count": 7,
   "metadata": {},
   "outputs": [
    {
     "data": {
      "text/plain": [
       "[('J1744-1134', 3.585390803085768),\n",
       " ('J1747-4036', 1.6495632521986918),\n",
       " ('J1909-3744', 1.3798393553723767)]"
      ]
     },
     "execution_count": 7,
     "metadata": {},
     "output_type": "execute_result"
    }
   ],
   "source": [
    "[(k,v) for k,v in bf_dict.items() if v>1]"
   ]
  },
  {
   "cell_type": "code",
   "execution_count": 8,
   "metadata": {},
   "outputs": [
    {
     "data": {
      "image/png": "[encoded data removed]",
      "text/plain": [
       "<Figure size 360x216 with 1 Axes>"
      ]
     },
     "metadata": {
      "needs_background": "light"
     },
     "output_type": "display_data"
    }
   ],
   "source": [
    "ar_kwargs = {'arrowstyle':'->'}\n",
    "\n",
    "bfs = [x for x in bf_dict.values()]\n",
    "plt.figure(figsize=(5,3))\n",
    "\n",
    "plt.hist(bfs, bins=20);\n",
    "plt.xlabel('bayes factor')\n",
    "plt.ylabel('counts')\n",
    "plt.axvline(x=1, ls=':', color='C1')\n",
    "\n",
    "psrs = ['J1909-3744', 'J1747-4036', 'J1744-1134']\n",
    "arrow_loc = [(1.32, 1.1), (1.63, 1.1), (3.50, 1.1)]\n",
    "text_loc = [(1.1, 6), (1.6, 4), (2.8, 4)]\n",
    "\n",
    "#psrs = ['J1747-4036 and J1909-3744', 'J1744-1134']\n",
    "#arrow_loc = [(1.60, 2), (3.05, 1)]\n",
    "#text_loc = [(1.2, 4),\n",
    "#            (2.5, 3)]\n",
    "for p, xy, xytext in zip(psrs, arrow_loc, text_loc):\n",
    "    plt.annotate(p, xy, xytext, arrowprops=ar_kwargs)\n",
    "\n",
    "plt.tight_layout()\n",
    "plt.savefig('/home/pbaker/psrTerm_BF.pdf')"
   ]
  },
  {
   "cell_type": "code",
   "execution_count": null,
   "metadata": {},
   "outputs": [],
   "source": [
    "this_bf = bf_dict['J1744-1134']\n",
    "this_prob = 1/(1+1/this_bf)\n",
    "print(\"BF = {:.3f},  prob = {:.3f}\".format(this_bf, this_prob))"
   ]
  },
  {
   "cell_type": "markdown",
   "metadata": {},
   "source": [
    "# ULs"
   ]
  },
  {
   "cell_type": "code",
   "execution_count": null,
   "metadata": {},
   "outputs": [],
   "source": [
    "all_psrs[18]"
   ]
  },
  {
   "cell_type": "markdown",
   "metadata": {},
   "source": [
    "`ii_t = 20` is nearly centered on the anomally\n",
    "\n",
    "* 4 $\\rightarrow$ J0030+0451\n",
    "* 15 $\\rightarrow$ J1713+0747\n",
    "* 22 $\\rightarrow$ J1909-3744"
   ]
  },
  {
   "cell_type": "code",
   "execution_count": null,
   "metadata": {},
   "outputs": [],
   "source": [
    "psr = all_psrs[18]\n",
    "ephem = 'DE436'\n",
    "\n",
    "ii_t = 20  # 0-40 or None\n",
    "if ii_t:\n",
    "    tmin, cent, tmax = tlim[ii_t]\n",
    "    chunk = '{:.2f}'.format(cent)\n",
    "else:\n",
    "    chunk = 'all'\n",
    "\n",
    "rundir = '/home/pbaker/nanograv/bwm/sngl/uplim_{0:s}/{1:s}/{2:s}/'.format(ephem, psr, chunk)"
   ]
  },
  {
   "cell_type": "code",
   "execution_count": null,
   "metadata": {},
   "outputs": [],
   "source": [
    "with open(rundir + 'params.txt', 'r') as f:\n",
    "    params = [line.rstrip('\\n') for line in f]\n",
    "\n",
    "# get just bwm params\n",
    "par_bwm = []\n",
    "for par in params:\n",
    "    if par.startswith('bwm_'):\n",
    "        par_bwm.append(par)\n",
    "idx_bwm = [params.index(p) for p in par_bwm]\n",
    "idx_A = par_bwm.index('bwm_log10_A')\n",
    "idx_t0 = par_bwm.index('bwm_t0')"
   ]
  },
  {
   "cell_type": "code",
   "execution_count": null,
   "metadata": {},
   "outputs": [],
   "source": [
    "chain_raw = pd.read_csv(rundir + 'chain_1.txt',\n",
    "                        sep='\\t', dtype=float, header=None).values"
   ]
  },
  {
   "cell_type": "code",
   "execution_count": null,
   "metadata": {},
   "outputs": [],
   "source": [
    "burnfrac = 0.10\n",
    "thin = 20\n",
    "\n",
    "burn = int(burnfrac * len(chain_raw))\n",
    "chain = chain_raw[burn::thin]\n",
    "\n",
    "chain_bwm = chain[:,idx_bwm]\n",
    "chain_L = chain[:,-4]\n",
    "\n",
    "corL = acor(chain_L)[0]\n",
    "N = len(chain_bwm)\n",
    "print(\"N = {}, corL = {}\".format(N, corL))"
   ]
  },
  {
   "cell_type": "code",
   "execution_count": null,
   "metadata": {},
   "outputs": [],
   "source": [
    "ch_plt = np.hstack([chain_bwm, chain_L.reshape(N,1)])\n",
    "par_plt = par_bwm + ['logL']\n",
    "trace_plot(ch_plt, par_plt, cols=3, wid_per_col=4);"
   ]
  },
  {
   "cell_type": "code",
   "execution_count": null,
   "metadata": {},
   "outputs": [],
   "source": [
    "fig = hist_plot(ch_plt, par_plt, cols=3, wid_per_col=4)\n",
    "for ax in fig.axes:\n",
    "    ax.set_yscale('log')"
   ]
  },
  {
   "cell_type": "code",
   "execution_count": null,
   "metadata": {},
   "outputs": [],
   "source": [
    "corner_kwargs = {'bins':30,\n",
    "                 'show_titles':True,\n",
    "                 'labels':par_bwm,\n",
    "                 'smooth':0.5,\n",
    "                 'plot_datapoints':False,\n",
    "                 'plot_density':True,\n",
    "                 'plot_contours':True,\n",
    "                 'fill_contours':False,}\n",
    "\n",
    "fig = corner(chain_bwm, color='C0', **corner_kwargs);\n",
    "fig.suptitle(psr);"
   ]
  },
  {
   "cell_type": "code",
   "execution_count": null,
   "metadata": {},
   "outputs": [],
   "source": [
    "np.median(10**chain_bwm[:,idx_A])"
   ]
  },
  {
   "cell_type": "code",
   "execution_count": null,
   "metadata": {},
   "outputs": [],
   "source": [
    "plt.hist(10**chain_bwm[:, idx_A], bins=50, density=True);\n",
    "plt.yscale('log')"
   ]
  },
  {
   "cell_type": "code",
   "execution_count": null,
   "metadata": {},
   "outputs": [],
   "source": [
    "UL_uncert(10**chain_bwm[:, idx_A])"
   ]
  },
  {
   "cell_type": "code",
   "execution_count": null,
   "metadata": {},
   "outputs": [],
   "source": [
    "from astropy.time import Time\n",
    "\n",
    "lognorm = LogNorm()\n",
    "Tmin, Tmax = Time([TMIN,TMAX], format='mjd').decimalyear\n",
    "\n",
    "hist_kwargs2D = {\n",
    "    'bins':30,\n",
    "    'normed':True,\n",
    "    'cmap':'Blues',\n",
    "    'norm':lognorm,\n",
    "}\n",
    "hist_kwargs = {\n",
    "    'bins':30,\n",
    "    'density':True,\n",
    "    'histtype':'step',\n",
    "}\n",
    "\n",
    "\n",
    "tbox = [0.15, 0.65, 0.80, 0.30]\n",
    "bbox = [0.15, 0.15, 0.80, 0.50]\n",
    "\n",
    "fig = plt.figure(figsize=(6,4))\n",
    "ax1 = fig.add_axes(bbox)\n",
    "ax2 = fig.add_axes(tbox)\n",
    "\n",
    "t_ch = Time(chain_bwm[:,idx_t0], format='mjd').decimalyear\n",
    "logA_ch = chain_bwm[:,idx_A]\n",
    "A_ch = 10**logA_ch\n",
    "    \n",
    "ax1.hist2d(t_ch, logA_ch, **hist_kwargs2D)\n",
    "ax2.hist(t_ch, **hist_kwargs)\n",
    "\n",
    "#if ii_t:\n",
    "#    ax.axvline(x=tmin, color='k', linestyle=':')\n",
    "#    ax.axvline(x=tmax, color='k', linestyle=':')\n",
    "\n",
    "ax1.set_xlabel(r'$t_0$ (MJD)')\n",
    "ax1.set_ylabel(r'$\\log_{10}(A_{BWM})$')\n",
    "ax1.set_ylim([-18,-9])\n",
    "ax1.set_xlim([Tmin, Tmax])\n",
    "ax2.set_xlim([Tmin, Tmax])\n",
    "#ax.set_title('{:.1f} yr timeslice (w/ dropout)'.format(slice_yr))"
   ]
  },
  {
   "cell_type": "code",
   "execution_count": null,
   "metadata": {},
   "outputs": [],
   "source": [
    "tbins = np.arange(2004, 2016, 0.5)\n",
    "\n",
    "t_cent = []\n",
    "UL_binned = []\n",
    "A_ch_binned = []\n",
    "\n",
    "for left, cent, right in tlim:\n",
    "    left, cent, right = Time([left, cent, right], format='mjd').decimalyear\n",
    "    \n",
    "    mask = np.logical_and(t_ch>left, t_ch<right)\n",
    "    if len(A_ch[mask]) > 0:\n",
    "        t_cent.append(cent)\n",
    "        A_ch_binned.append(A_ch[mask])\n",
    "        UL_binned.append(np.percentile(A_ch[mask], 95))"
   ]
  },
  {
   "cell_type": "code",
   "execution_count": null,
   "metadata": {},
   "outputs": [],
   "source": [
    "plt.plot(t_cent, UL_binned)\n",
    "plt.yscale('log')"
   ]
  },
  {
   "cell_type": "markdown",
   "metadata": {},
   "source": [
    "# loop over all pulsars"
   ]
  },
  {
   "cell_type": "code",
   "execution_count": null,
   "metadata": {},
   "outputs": [],
   "source": [
    "runroot = '/home/pbaker/nanograv/bwm/sngl/uplim_DE436'\n",
    "\n",
    "burnfrac = 0.10\n",
    "thin = 20\n",
    "\n",
    "ii_A = 2\n",
    "\n",
    "UL_dict = {}  # keys->psrname, vals->(Ts, ULs, dULs)"
   ]
  },
  {
   "cell_type": "code",
   "execution_count": null,
   "metadata": {},
   "outputs": [],
   "source": [
    "for psr in all_psrs:\n",
    "    Ts = []\n",
    "    ULs = []\n",
    "    dULs = []\n",
    "    print(psr+\"...\")\n",
    "    for chunk in tlim:\n",
    "        this_T = chunk[1]\n",
    "        try:\n",
    "            rundir = os.path.join(runroot, psr, '{:.2f}'.format(this_T))\n",
    "            chain_raw = pd.read_csv(rundir + '/chain_1.txt',\n",
    "                        sep='\\t', dtype=float, header=None).values\n",
    "\n",
    "            burn = int(burnfrac * len(chain_raw))\n",
    "            ch_A = 10**chain_raw[burn::thin, ii_A]\n",
    "            this_UL, this_dUL = UL_uncert(ch_A)\n",
    "            print(\"  {:.2f} -- {:.3e} +/- {:.2e} (N = {:d})\".format(this_T, this_UL, this_dUL, len(ch_A)))\n",
    "\n",
    "            Ts.append(this_T)\n",
    "            ULs.append(this_UL)\n",
    "            dULs.append(this_dUL)\n",
    "        except IOError:\n",
    "            print(\"  {:.2f} -- no data\".format(this_T))\n",
    "    \n",
    "    UL_dict[psr] = (Ts, ULs, dULs)\n",
    "    \n",
    "    outdir = os.path.join(runroot, psr)\n",
    "    np.savetxt(outdir + \"/ULvT_{:s}.dat\".format(psr), UL_dict[psr])\n",
    "    print(\"          ...done.\")"
   ]
  },
  {
   "cell_type": "code",
   "execution_count": null,
   "metadata": {},
   "outputs": [],
   "source": [
    "test_psrs = ['J1012+5307',\n",
    "             'J1713+0747',\n",
    "             #'J1744-1134',\n",
    "             'J1909-3744',\n",
    "             #'J2145-0750',\n",
    "             'J2317+1439'\n",
    "             ]\n",
    "\n",
    "for psr in test_psrs:\n",
    "    ts, ULs, dULs = UL_dict[psr]\n",
    "    plt.errorbar(*UL_dict[psr], label=psr)\n",
    "\n",
    "plt.legend()\n",
    "plt.yscale('log')\n",
    "plt.ylim([4e-15,4e-13])    "
   ]
  },
  {
   "cell_type": "code",
   "execution_count": null,
   "metadata": {},
   "outputs": [],
   "source": [
    "#psr = 'J1713+0747'\n",
    "psr = 'J1909-3744'\n",
    "ts, ULs, dULs = UL_dict[psr]\n",
    "\n",
    "ts = Time(ts, format='mjd').decimalyear\n",
    "\n",
    "plt.plot(ts, ULs, label='time binned runs')\n",
    "plt.plot(t_cent, UL_binned, label='all time run')\n",
    "plt.legend()\n",
    "plt.yscale('log')"
   ]
  },
  {
   "cell_type": "code",
   "execution_count": null,
   "metadata": {},
   "outputs": [],
   "source": [
    "for tt, uu in zip(np.array(tlim)[:,1], ULs['DE436_BE']):\n",
    "    print(\"{:.2f}:    h_mem < {:.3e}\".format(tt, uu))"
   ]
  },
  {
   "cell_type": "code",
   "execution_count": null,
   "metadata": {},
   "outputs": [],
   "source": []
  }
 ],
 "metadata": {
  "kernelspec": {
   "display_name": "Python 3",
   "language": "python",
   "name": "python3"
  },
  "language_info": {
   "codemirror_mode": {
    "name": "ipython",
    "version": 3
   },
   "file_extension": ".py",
   "mimetype": "text/x-python",
   "name": "python",
   "nbconvert_exporter": "python",
   "pygments_lexer": "ipython3",
   "version": "3.6.8"
  }
 },
 "nbformat": 4,
 "nbformat_minor": 2
}
