{
 "cells": [
  {
   "cell_type": "code",
   "execution_count": null,
   "metadata": {
    "collapsed": true
   },
   "outputs": [],
   "source": [
    "from __future__ import division, print_function\n",
    "\n",
    "import numpy as np\n",
    "import matplotlib.pyplot as plt\n",
    "\n",
    "from corner import corner\n",
    "from acor import acor\n",
    "from matplotlib.colors import LogNorm\n",
    "\n",
    "%matplotlib inline"
   ]
  },
  {
   "cell_type": "code",
   "execution_count": null,
   "metadata": {
    "collapsed": true
   },
   "outputs": [],
   "source": [
    "ephem = 'DE421'\n",
    "\n",
    "slice_yr = 9.5\n",
    "\n",
    "rundir = '/home/pbaker/nanograv/bwm/slices/{:.1f}/{}/'.format(slice_yr, ephem)"
   ]
  },
  {
   "cell_type": "code",
   "execution_count": null,
   "metadata": {
    "collapsed": true
   },
   "outputs": [],
   "source": [
    "# this changes depending on which \"names\" are used in enterprise....\n",
    "\n",
    "with open(rundir + 'params.txt', 'r') as f:\n",
    "    params = [line.rstrip('\\n') for line in f]\n",
    "\n",
    "params = params[-5:]\n",
    "idx_A = params.index('log10_A_bwm')\n",
    "idx_t0 = params.index('t0_bwm')"
   ]
  },
  {
   "cell_type": "code",
   "execution_count": null,
   "metadata": {
    "collapsed": false
   },
   "outputs": [],
   "source": [
    "chain_raw = np.loadtxt(rundir + 'chain_1.txt')\n",
    "burn = int(0.25 * len(chain_raw))\n",
    "chain = chain_raw[burn:]    \n",
    "chain_bwm = chain[:,-9:-4]  # no ephem model\n",
    "\n",
    "corr = acor(chain_bwm[:,idx_A])[0]\n",
    "N = len(chain_bwm)\n",
    "print(\"{:.1f} yr -- {:s}\".format(slice_yr, ephem))\n",
    "print(\"N = {}, corr = {}, Neff = {}\".format(N, corr, N/corr))"
   ]
  },
  {
   "cell_type": "code",
   "execution_count": null,
   "metadata": {
    "collapsed": false
   },
   "outputs": [],
   "source": [
    "corner_kwargs = {'bins':30,\n",
    "                 'show_titles':True,\n",
    "                 'labels':params,\n",
    "                 'smooth':1.0,\n",
    "                 'plot_datapoints':False,\n",
    "                 'plot_density':True,\n",
    "                 'plot_contours':False,\n",
    "                 'fill_contours':False,}\n",
    "\n",
    "fig = corner(chain_bwm, color='C0', **corner_kwargs);\n",
    "fig.suptitle('{:.1f} yr slice'.format(slice_yr));"
   ]
  },
  {
   "cell_type": "code",
   "execution_count": null,
   "metadata": {
    "collapsed": false
   },
   "outputs": [],
   "source": [
    "ax = []\n",
    "fig = plt.figure(figsize=(20,12))\n",
    "\n",
    "for pp, par in enumerate(params):\n",
    "    ax.append(fig.add_subplot(2,3,pp+1))\n",
    "    ax[pp].hist(chain_bwm[:,pp], bins=25, normed=True, histtype='step', label=ephem)\n",
    "    ax[pp].set_xlabel(par)\n",
    "\n",
    "ax[0].legend(loc='upper left')\n",
    "ax[idx_A].set_yscale('log')\n",
    "ax[idx_t0].set_yscale('log')"
   ]
  },
  {
   "cell_type": "code",
   "execution_count": null,
   "metadata": {
    "collapsed": false
   },
   "outputs": [],
   "source": [
    "lognorm = LogNorm()\n",
    "\n",
    "hist_kwargs = {'bins':50,\n",
    "               'normed':True,\n",
    "               'cmap':'YlOrRd',\n",
    "               #'vmin':1.0e5,\n",
    "               #'vmax':1.0e10,\n",
    "               'norm':lognorm,\n",
    "                }\n",
    "\n",
    "fig = plt.figure(figsize=(8,4))\n",
    "ax = fig.add_subplot(111)\n",
    "\n",
    "t0_ch = chain_bwm[:,idx_t0]\n",
    "if max(chain_bwm[:,idx_A])>0:\n",
    "    h_ch = np.log10(chain_bwm[:,idx_A])\n",
    "else:\n",
    "    h_ch = chain_bwm[:,idx_A]\n",
    "    \n",
    "ax.hist2d(t0_ch, h_ch, **hist_kwargs)\n",
    "ax.set_xlabel(r'$t_0$ (MJD)')\n",
    "ax.set_ylabel(r'$\\log_{10}(A_{BWM})$')\n",
    "ax.set_ylim([-18,-11])\n",
    "ax.set_xlim([53200, 57500])\n"
   ]
  },
  {
   "cell_type": "markdown",
   "metadata": {},
   "source": [
    "## time sliced 1D hists"
   ]
  },
  {
   "cell_type": "code",
   "execution_count": null,
   "metadata": {
    "collapsed": false,
    "scrolled": false
   },
   "outputs": [],
   "source": [
    "ephem = 'DE421'\n",
    "\n",
    "# setup plotting axes\n",
    "ax = []\n",
    "fig = plt.figure(figsize=(20,12))\n",
    "for pp, par in enumerate(params):\n",
    "    ax.append(fig.add_subplot(2,3,pp+1))\n",
    "    ax[pp].set_xlabel(par)\n",
    "\n",
    "# loop over slices\n",
    "slices = [5,7.5,9,11.5]\n",
    "for slice_yr in slices:\n",
    "    \n",
    "    rundir = '/home/pbaker/nanograv/bwm/slices/{:.1f}/{}/'.format(slice_yr, ephem)\n",
    "    \n",
    "    chain_raw = np.loadtxt(rundir + 'chain_1.txt')\n",
    "    burn = int(0.25 * len(chain_raw))\n",
    "    chain = chain_raw[burn:]    \n",
    "    chain_bwm = chain[:,-9:-4]  # no ephem model\n",
    "\n",
    "    corr = acor(chain_bwm[:,idx_A])[0]\n",
    "    N = len(chain_bwm)\n",
    "    print(\"{:.1f} yr -- {:s}\".format(slice_yr, ephem))\n",
    "    print(\"N = {}, corr = {:.1f}, Neff = {:.1f}\".format(N, corr, N/corr))\n",
    "    \n",
    "    for pp, par in enumerate(params):\n",
    "        ax[pp].hist(chain_bwm[:,pp], bins=25, normed=True, histtype='step',\n",
    "                    label=\"{:.1f} yr\".format(slice_yr))\n",
    "\n",
    "ax[0].legend(loc='upper left')\n",
    "for a in ax:\n",
    "    a.set_yscale('log')\n",
    "#ax[idx_A].set_yscale('log')\n",
    "#ax[idx_t0].set_yscale('log')"
   ]
  },
  {
   "cell_type": "code",
   "execution_count": null,
   "metadata": {
    "collapsed": false
   },
   "outputs": [],
   "source": [
    "ephem = 'DE421'\n",
    "\n",
    "# setup plotting axes\n",
    "ax = []\n",
    "fig = plt.figure(figsize=(20,12))\n",
    "for pp, par in enumerate(params):\n",
    "    ax.append(fig.add_subplot(2,3,pp+1))\n",
    "    ax[pp].set_xlabel(par)\n",
    "\n",
    "# loop over slices\n",
    "slices = [9,9.5,10,10.5,11.0]\n",
    "for slice_yr in slices:\n",
    "    \n",
    "    rundir = '/home/pbaker/nanograv/bwm/slices/{:.1f}/{}/'.format(slice_yr, ephem)\n",
    "    \n",
    "    chain_raw = np.loadtxt(rundir + 'chain_1.txt')\n",
    "    burn = int(0.25 * len(chain_raw))\n",
    "    chain = chain_raw[burn:]    \n",
    "    chain_bwm = chain[:,-9:-4]  # no ephem model\n",
    "\n",
    "    corr = acor(chain_bwm[:,idx_A])[0]\n",
    "    N = len(chain_bwm)\n",
    "    print(\"{:.1f} yr -- {:s}\".format(slice_yr, ephem))\n",
    "    print(\"N = {}, corr = {:.1f}, Neff = {:.1f}\".format(N, corr, N/corr))\n",
    "    \n",
    "    for pp, par in enumerate(params):\n",
    "        ax[pp].hist(chain_bwm[:,pp], bins=25, normed=True, histtype='step',\n",
    "                    label=\"{:.1f} yr\".format(slice_yr))\n",
    "\n",
    "ax[0].legend(loc='upper left')\n",
    "for a in ax:\n",
    "    a.set_yscale('log')\n",
    "#ax[idx_A].set_yscale('log')\n",
    "#ax[idx_t0].set_yscale('log')"
   ]
  },
  {
   "cell_type": "code",
   "execution_count": null,
   "metadata": {
    "collapsed": true
   },
   "outputs": [],
   "source": []
  }
 ],
 "metadata": {
  "anaconda-cloud": {},
  "kernelspec": {
   "display_name": "Python [default]",
   "language": "python",
   "name": "python2"
  },
  "language_info": {
   "codemirror_mode": {
    "name": "ipython",
    "version": 2
   },
   "file_extension": ".py",
   "mimetype": "text/x-python",
   "name": "python",
   "nbconvert_exporter": "python",
   "pygments_lexer": "ipython2",
   "version": "2.7.12"
  }
 },
 "nbformat": 4,
 "nbformat_minor": 2
}
