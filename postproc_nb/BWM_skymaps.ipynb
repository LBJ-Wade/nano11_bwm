{
 "cells": [
  {
   "cell_type": "code",
   "execution_count": 1,
   "metadata": {},
   "outputs": [
    {
     "name": "stderr",
     "output_type": "stream",
     "text": [
      "WARNING: enterprise.signals.signal_base: No sksparse library. Using scipy instead!\n"
     ]
    }
   ],
   "source": [
    "import numpy as np\n",
    "import healpy as hp\n",
    "import glob\n",
    "import matplotlib.pyplot as plt\n",
    "\n",
    "from enterprise.pulsar import Pulsar\n",
    "import skyplot_tools as spt\n",
    "\n",
    "\n",
    "%matplotlib inline\n",
    "%config InlineBackend.figure_format = 'retina'"
   ]
  },
  {
   "cell_type": "code",
   "execution_count": 2,
   "metadata": {},
   "outputs": [],
   "source": [
    "plt.rcParams.update(plt.rcParamsDefault)\n",
    "params = {'backend': 'pdf',\n",
    "        'axes.labelsize': 10,\n",
    "        'lines.markersize': 4,\n",
    "        'font.size': 10,\n",
    "        'xtick.major.size':6,\n",
    "        'xtick.minor.size':3,\n",
    "        'ytick.major.size':6,\n",
    "        'ytick.minor.size':3,\n",
    "        'xtick.major.width':0.5,\n",
    "        'ytick.major.width':0.5,\n",
    "        'xtick.minor.width':0.5,\n",
    "        'ytick.minor.width':0.5,\n",
    "        'lines.markeredgewidth':1,\n",
    "        'axes.linewidth':1.2,\n",
    "        'legend.fontsize': 7,\n",
    "        'xtick.labelsize': 10,\n",
    "        'ytick.labelsize': 10,\n",
    "        'savefig.dpi':200,\n",
    "        'path.simplify':True,\n",
    "        #'font.family': 'serif',\n",
    "        #'font.serif':'Times',\n",
    "        'text.latex.preamble': [r'\\usepackage{amsmath}'],\n",
    "        'text.usetex':True}\n",
    "\n",
    "plt.rcParams.update(params)"
   ]
  },
  {
   "cell_type": "code",
   "execution_count": 4,
   "metadata": {},
   "outputs": [],
   "source": [
    "#The pulsars we'll be analyzing\n",
    "psrlist = ['J1713+0747',\n",
    "           'J1909-3744',\n",
    "           'J1640+2224',\n",
    "           'J1600-3053',\n",
    "           'J2317+1439',\n",
    "           'J1918-0642',\n",
    "           'J1614-2230',\n",
    "           'J1744-1134',\n",
    "           'J0030+0451',\n",
    "           'J2145-0750',\n",
    "           'J1857+0943',\n",
    "           'J1853+1303',\n",
    "           'J0613-0200',\n",
    "           'J1455-3330',\n",
    "           'J1741+1351',\n",
    "           'J2010-1323',\n",
    "           'J1024-0719',\n",
    "           'J1012+5307',\n",
    "           'J0437-4715',\n",
    "           'J0034-0534',\n",
    "          ]"
   ]
  },
  {
   "cell_type": "code",
   "execution_count": null,
   "metadata": {},
   "outputs": [],
   "source": [
    "datadir = '/Users/ptb/Projects/nanograv/data/nano11'\n",
    "ephem = 'DE436'\n",
    "\n",
    "with open(datadir + '/11y_psrs.txt', 'r') as f:\n",
    "    psrlist = [line.strip() for line in f]"
   ]
  },
  {
   "cell_type": "markdown",
   "metadata": {},
   "source": [
    "# get PSR locations\n",
    "\n",
    "ONLY NEED TO DO ONCE PER psrlist"
   ]
  },
  {
   "cell_type": "code",
   "execution_count": 91,
   "metadata": {},
   "outputs": [
    {
     "name": "stdout",
     "output_type": "stream",
     "text": [
      "WARNING: Could not find pulsar distance for PSR J0023+0923. Setting value to 1 with 20% uncertainty.\n",
      "WARNING: Could not find pulsar distance for PSR J0340+4130. Setting value to 1 with 20% uncertainty.\n",
      "WARNING: Could not find pulsar distance for PSR J0645+5158. Setting value to 1 with 20% uncertainty.\n",
      "WARNING: Could not find pulsar distance for PSR J1614-2230. Setting value to 1 with 20% uncertainty.\n",
      "WARNING: Could not find pulsar distance for PSR J1738+0333. Setting value to 1 with 20% uncertainty.\n",
      "WARNING: Could not find pulsar distance for PSR J1741+1351. Setting value to 1 with 20% uncertainty.\n",
      "WARNING: Could not find pulsar distance for PSR J1747-4036. Setting value to 1 with 20% uncertainty.\n",
      "WARNING: Could not find pulsar distance for PSR J1853+1303. Setting value to 1 with 20% uncertainty.\n",
      "WARNING: Could not find pulsar distance for PSR J1903+0327. Setting value to 1 with 20% uncertainty.\n",
      "WARNING: Could not find pulsar distance for PSR J1923+2515. Setting value to 1 with 20% uncertainty.\n",
      "WARNING: Could not find pulsar distance for PSR J1944+0907. Setting value to 1 with 20% uncertainty.\n",
      "WARNING: Could not find pulsar distance for PSR J2010-1323. Setting value to 1 with 20% uncertainty.\n",
      "WARNING: Could not find pulsar distance for PSR J2017+0603. Setting value to 1 with 20% uncertainty.\n",
      "WARNING: Could not find pulsar distance for PSR J2043+1711. Setting value to 1 with 20% uncertainty.\n",
      "WARNING: Could not find pulsar distance for PSR J2214+3000. Setting value to 1 with 20% uncertainty.\n",
      "WARNING: Could not find pulsar distance for PSR J2302+4442. Setting value to 1 with 20% uncertainty.\n"
     ]
    }
   ],
   "source": [
    "parfiles = sorted(glob.glob(datadir + '/*.par'))\n",
    "timfiles = sorted(glob.glob(datadir + '/*.tim'))\n",
    "\n",
    "# filter\n",
    "parfiles = [x for x in parfiles if x.split('/')[-1].split('_')[0] in psrlist]\n",
    "timfiles = [x for x in timfiles if x.split('/')[-1].split('_')[0] in psrlist]\n",
    "\n",
    "psrs = []\n",
    "for p, t in zip(parfiles, timfiles):\n",
    "    psr = Pulsar(p, t, ephem=ephem)\n",
    "    psrs.append(psr)"
   ]
  },
  {
   "cell_type": "code",
   "execution_count": 92,
   "metadata": {
    "collapsed": true
   },
   "outputs": [],
   "source": [
    "with open('11yr_locs.txt', 'w') as f:\n",
    "    for p in psrs:\n",
    "        phi = p.phi\n",
    "        theta = np.pi/2 - p.theta\n",
    "        f.write('{:s} {:f} {:f}\\n'.format(p.name, phi, theta))"
   ]
  },
  {
   "cell_type": "markdown",
   "metadata": {},
   "source": [
    "# Plot"
   ]
  },
  {
   "cell_type": "code",
   "execution_count": 99,
   "metadata": {},
   "outputs": [
    {
     "data": {
      "text/plain": [
       "{'B1855+09': [4.95337, 0.168487],\n",
       " 'B1937+21': [5.137725, 0.37467],\n",
       " 'B1953+29': [5.207391, 0.506356],\n",
       " 'J0023+0923': [0.101584, 0.163886],\n",
       " 'J0030+0451': [0.132894, 0.084841],\n",
       " 'J0340+4130': [0.961625, 0.724531],\n",
       " 'J0613-0200': [1.630718, -0.035135],\n",
       " 'J0645+5158': [1.771442, 0.907062],\n",
       " 'J1012+5307': [2.672786, 0.927072],\n",
       " 'J1024-0719': [2.725526, -0.127795],\n",
       " 'J1455-3330': [3.908663, -0.58491],\n",
       " 'J1600-3053': [4.192565, -0.539255],\n",
       " 'J1614-2230': [4.252532, -0.392851],\n",
       " 'J1640+2224': [4.364541, 0.390996],\n",
       " 'J1643-1224': [4.379188, -0.216705],\n",
       " 'J1713+0747': [4.510915, 0.136026],\n",
       " 'J1738+0333': [4.620321, 0.062012],\n",
       " 'J1741+1351': [4.631751, 0.241942],\n",
       " 'J1744-1134': [4.644714, -0.202142],\n",
       " 'J1747-4036': [4.659209, -0.708869],\n",
       " 'J1853+1303': [4.947813, 0.227979],\n",
       " 'J1903+0327': [4.9877, 0.060307],\n",
       " 'J1909-3744': [5.016908, -0.658642],\n",
       " 'J1910+1256': [5.018527, 0.225853],\n",
       " 'J1918-0642': [5.056221, -0.117106],\n",
       " 'J1923+2515': [5.07618, 0.440892],\n",
       " 'J1944+0907': [5.166853, 0.159227],\n",
       " 'J2010-1323': [5.282961, -0.233855],\n",
       " 'J2017+0603': [5.311815, 0.105619],\n",
       " 'J2043+1711': [5.425129, 0.300046],\n",
       " 'J2145-0750': [5.697806, -0.136807],\n",
       " 'J2214+3000': [5.823498, 0.523784],\n",
       " 'J2302+4442': [6.033529, 0.780269],\n",
       " 'J2317+1439': [6.096234, 0.255842]}"
      ]
     },
     "execution_count": 99,
     "metadata": {},
     "output_type": "execute_result"
    }
   ],
   "source": [
    "psr_dict"
   ]
  },
  {
   "cell_type": "code",
   "execution_count": 7,
   "metadata": {},
   "outputs": [],
   "source": [
    "psr_dict = {}\n",
    "with open('11yr_locs.txt', 'r') as f:\n",
    "    for line in f:\n",
    "        line = line.split()\n",
    "        psr_dict[line[0]] = [float(line[1]), float(line[2])]\n",
    "    \n",
    "psr_locs = []\n",
    "for p in psrlist:\n",
    "    psr_locs.append(psr_dict[p])\n",
    "psr_locs = np.array(psr_locs)"
   ]
  },
  {
   "cell_type": "code",
   "execution_count": 8,
   "metadata": {},
   "outputs": [],
   "source": [
    "nside = 8 #corresponds to 768 pixels\n",
    "npix = hp.nside2npix(nside)"
   ]
  },
  {
   "cell_type": "code",
   "execution_count": 11,
   "metadata": {},
   "outputs": [
    {
     "name": "stdout",
     "output_type": "stream",
     "text": [
      "Sigma is 1094.907479 arcmin (0.318496 rad) \n",
      "-> fwhm is 2578.310078 arcmin\n",
      "Sigma is 0.000000 arcmin (0.000000 rad) \n",
      "-> fwhm is 0.000000 arcmin\n"
     ]
    }
   ],
   "source": [
    "skymap = np.loadtxt('ULs.dat', usecols=(1))\n",
    "skymap_smooth = hp.smoothing(skymap, 0.75)"
   ]
  },
  {
   "cell_type": "code",
   "execution_count": null,
   "metadata": {
    "collapsed": true
   },
   "outputs": [],
   "source": []
  },
  {
   "cell_type": "code",
   "execution_count": 14,
   "metadata": {},
   "outputs": [
    {
     "name": "stderr",
     "output_type": "stream",
     "text": [
      "/Users/ptb/anaconda/envs/enterprise/lib/python3.6/site-packages/matplotlib/projections/geo.py:485: RuntimeWarning: invalid value encountered in arcsin\n",
      "  theta = np.arcsin(y / np.sqrt(2))\n"
     ]
    }
   ],
   "source": [
    "plt.figure(0)\n",
    "ax = plt.subplot(111, projection='astro mollweide')\n",
    "ax.grid()\n",
    "spt.outline_text(ax)\n",
    "\n",
    "spt.healpix_heatmap(skymap)\n",
    "\n",
    "ax.plot(psr_locs[:,0], psr_locs[:,1], '*', color='w', markersize=10, mew=1.0, mec='k', alpha=0.9)    \n",
    "ax.set_title(r'11yr BWM ULs')\n",
    "\n",
    "plt.colorbar(orientation='horizontal')\n",
    "plt.suptitle(r'95\\% Characteristic Strain Upper Limit, $A_{95}$', y=0.0)\n",
    "plt.grid(linestyle='dotted', color='k')\n",
    "plt.tight_layout()\n",
    "plt.savefig('skymap.png')\n"
   ]
  },
  {
   "cell_type": "code",
   "execution_count": 16,
   "metadata": {},
   "outputs": [
    {
     "name": "stderr",
     "output_type": "stream",
     "text": [
      "/Users/ptb/anaconda/envs/enterprise/lib/python3.6/site-packages/matplotlib/projections/geo.py:485: RuntimeWarning: invalid value encountered in arcsin\n",
      "  theta = np.arcsin(y / np.sqrt(2))\n"
     ]
    }
   ],
   "source": [
    "plt.clf()\n",
    "plt.figure(1)\n",
    "ax = plt.subplot(111, projection='astro mollweide')\n",
    "ax.grid()\n",
    "spt.outline_text(ax)\n",
    "\n",
    "spt.healpix_heatmap(skymap_smooth)\n",
    "\n",
    "ax.plot(psr_locs[:,0], psr_locs[:,1], '*', color='w', markersize=10, mew=1.0, mec='k', alpha=0.9)    \n",
    "ax.set_title(r'11yr BWM UL')\n",
    "\n",
    "plt.colorbar(orientation='horizontal')\n",
    "plt.suptitle(r'95\\% Characteristic Strain Upper Limit, $A_{95}$', y=0.0)\n",
    "plt.grid(linestyle='dotted', color='k')\n",
    "plt.tight_layout()\n",
    "plt.savefig('skymap_smooth.png')"
   ]
  },
  {
   "cell_type": "code",
   "execution_count": null,
   "metadata": {},
   "outputs": [],
   "source": []
  }
 ],
 "metadata": {
  "kernelspec": {
   "display_name": "Python 3",
   "language": "python",
   "name": "python3"
  },
  "language_info": {
   "codemirror_mode": {
    "name": "ipython",
    "version": 3
   },
   "file_extension": ".py",
   "mimetype": "text/x-python",
   "name": "python",
   "nbconvert_exporter": "python",
   "pygments_lexer": "ipython3",
   "version": "3.6.4"
  }
 },
 "nbformat": 4,
 "nbformat_minor": 1
}
