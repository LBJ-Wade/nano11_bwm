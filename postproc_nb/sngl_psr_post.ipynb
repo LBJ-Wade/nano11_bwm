{
 "cells": [
  {
   "cell_type": "code",
   "execution_count": null,
   "metadata": {
    "collapsed": true
   },
   "outputs": [],
   "source": [
    "from __future__ import division, print_function\n",
    "\n",
    "import numpy as np\n",
    "import matplotlib.pyplot as plt\n",
    "\n",
    "from corner import corner\n",
    "from acor import acor\n",
    "from UL_uncert import UL_uncert\n",
    "\n",
    "%matplotlib inline"
   ]
  },
  {
   "cell_type": "code",
   "execution_count": null,
   "metadata": {
    "collapsed": true
   },
   "outputs": [],
   "source": [
    "ephem = 'DE421'\n",
    "\n",
    "# anomaly PSRs\n",
    "psrs_anom = ['J0030+0451', 'J1012+5307', 'J1909-3744', 'J0613-0200', 'J2145-0750', 'J1918-0642']\n",
    "\n",
    "# expected good PSRs\n",
    "psrs = ['J1713+0747',  'J1643-1224', 'J1744-1134', 'B1937+21']\n",
    "\n",
    "psr_name = psrs_anom[2]\n",
    "#psr_name = psrs[3]\n",
    "\n",
    "rundir = '/home/pbaker/nanograv/bwm/sngl/{}/{}/'.format(psr_name, ephem)"
   ]
  },
  {
   "cell_type": "code",
   "execution_count": null,
   "metadata": {
    "collapsed": true
   },
   "outputs": [],
   "source": [
    "# this changes depending on which \"names\" are used in enterprise....\n",
    "\n",
    "with open(rundir + 'params.txt', 'r') as f:\n",
    "    params = [line.rstrip('\\n') for line in f]\n",
    "\n",
    "params = params[-5:]\n",
    "idx_A = params.index('log10_A_bwm')\n",
    "idx_t0 = params.index('t0_bwm')"
   ]
  },
  {
   "cell_type": "code",
   "execution_count": null,
   "metadata": {
    "collapsed": false
   },
   "outputs": [],
   "source": [
    "chain_raw = np.loadtxt(rundir + 'chain_1.txt')\n",
    "burn = int(0.1 * len(chain_raw))\n",
    "chain = chain_raw[burn:]    \n",
    "chain_bwm = chain[:,-9:-4]  # no ephem model\n",
    "\n",
    "# de-log x-axis for ULs\n",
    "#chain_bwm[:,idx_A] = 10**chain_bwm[:,idx_A]\n",
    "#params[idx_A] = r'$A_\\mathrm{BwM}$'\n",
    "    \n",
    "corr = acor(chain_bwm[:,idx_A])[0]\n",
    "N = len(chain_bwm)\n",
    "print(\"{:s} -- {:s}\".format(psr_name,ephem))\n",
    "print(\"N = {}, corr = {}, Neff = {}\".format(N, corr, N/corr))"
   ]
  },
  {
   "cell_type": "code",
   "execution_count": null,
   "metadata": {
    "collapsed": false
   },
   "outputs": [],
   "source": [
    "corner_kwargs = {'bins':30,\n",
    "                 'labels':params,\n",
    "                 'smooth':1.0,\n",
    "                 'plot_datapoints':False,\n",
    "                 'plot_density':True,\n",
    "                 'plot_contours':False,\n",
    "                 'fill_contours':False,}\n",
    "\n",
    "fig = corner(chain_bwm, color='C0', **corner_kwargs);"
   ]
  },
  {
   "cell_type": "code",
   "execution_count": null,
   "metadata": {
    "collapsed": false
   },
   "outputs": [],
   "source": [
    "ax = []\n",
    "fig = plt.figure(figsize=(20,12))\n",
    "\n",
    "for pp, par in enumerate(params):\n",
    "    ax.append(fig.add_subplot(2,3,pp+1))\n",
    "    ax[pp].hist(chain_bwm[:,pp], 30, normed=True, histtype='step', label=ephem)\n",
    "    ax[pp].set_xlabel(par)\n",
    "\n",
    "ax[0].legend(loc='upper left')\n",
    "ax[idx_A].set_yscale('log')\n",
    "ax[idx_t0].set_yscale('log')"
   ]
  },
  {
   "cell_type": "code",
   "execution_count": null,
   "metadata": {
    "collapsed": false
   },
   "outputs": [],
   "source": [
    "from matplotlib.colors import LogNorm\n",
    "lognorm = LogNorm()\n",
    "\n",
    "hist_kwargs = {'bins':50,\n",
    "               'normed':True,\n",
    "               'cmap':'YlOrRd',\n",
    "               #'vmin':1.0e5,\n",
    "               #'vmax':1.0e10,\n",
    "               'norm':lognorm,\n",
    "                }\n",
    "\n",
    "fig = plt.figure(figsize=(8,4))\n",
    "ax = fig.add_subplot(111)\n",
    "\n",
    "t0_ch = chain_bwm[:,idx_t0]\n",
    "if max(chain_bwm[:,idx_A])>0:\n",
    "    h_ch = np.log10(chain_bwm[:,idx_A])\n",
    "else:\n",
    "    h_ch = chain_bwm[:,idx_A]\n",
    "    \n",
    "ax.hist2d(t0_ch, h_ch, **hist_kwargs)\n",
    "ax.set_xlabel(r'$t_0$ (MJD)')\n",
    "ax.set_ylabel(r'$\\log_{10}(A_{BWM})$')\n",
    "ax.set_ylim([-18,-8])\n",
    "\n",
    "#fig.savefig(\"2Dpost_{}.pdf\".format(psr_name))"
   ]
  },
  {
   "cell_type": "code",
   "execution_count": null,
   "metadata": {
    "collapsed": true
   },
   "outputs": [],
   "source": []
  },
  {
   "cell_type": "code",
   "execution_count": null,
   "metadata": {
    "collapsed": true
   },
   "outputs": [],
   "source": []
  },
  {
   "cell_type": "code",
   "execution_count": null,
   "metadata": {
    "collapsed": true
   },
   "outputs": [],
   "source": []
  },
  {
   "cell_type": "code",
   "execution_count": null,
   "metadata": {
    "collapsed": false
   },
   "outputs": [],
   "source": [
    "# de-log x-axis for ULs\n",
    "if max(chain_bwm[:,idx_A])<0:\n",
    "    chain_bwm[:,idx_A] = 10**chain_bwm[:,idx_A]\n",
    "    params[idx_A] = r'$A_\\mathrm{BwM}$'\n",
    "\n",
    "UL, dUL = UL_uncert(chain_bwm[:,idx_A])\n",
    "print(\"{}: {:.2e} +/- {:.2e}\".format(ephem, UL, dUL))"
   ]
  },
  {
   "cell_type": "code",
   "execution_count": null,
   "metadata": {
    "collapsed": false
   },
   "outputs": [],
   "source": [
    "fig = plt.figure(figsize=(8,6))\n",
    "ax = fig.add_subplot(111)\n",
    "\n",
    "# uses extracted chains from above\n",
    "ch2d = np.vstack([t0_ch, h_ch])\n",
    "\n",
    "Nbins = 20\n",
    "tbins = np.linspace(t0_ch.min(), t0_ch.max(), Nbins+1)\n",
    "\n",
    "data = np.zeros([Nbins,3])\n",
    "\n",
    "for ii in range(Nbins):\n",
    "    lbin, rbin = tbins[ii], tbins[ii+1]\n",
    "    mask = (t0_ch<rbin)*(t0_ch>lbin)\n",
    "    this_ch = ch2d[:,mask]\n",
    "    this_mid = (lbin+rbin)/2\n",
    "    this_UL, this_dUL = UL_uncert(10**this_ch[1], p=0.95)\n",
    "    data[ii] = [this_mid, this_UL, this_dUL]\n",
    "\n",
    "mids, ULs, dULs = data.T\n",
    "\n",
    "ax.errorbar(mids, ULs, yerr=dULs, label=ephem)\n",
    "\n",
    "ax.set_xlabel('$t_0$ (MJD)')\n",
    "ax.set_ylabel('$h_{95\\%}$')\n",
    "ax.set_yscale('log')\n",
    "ax.legend()\n",
    "\n",
    "#fig.savefig('bwm-UL_v_t.pdf')"
   ]
  }
 ],
 "metadata": {
  "anaconda-cloud": {},
  "kernelspec": {
   "display_name": "Python [default]",
   "language": "python",
   "name": "python2"
  },
  "language_info": {
   "codemirror_mode": {
    "name": "ipython",
    "version": 2
   },
   "file_extension": ".py",
   "mimetype": "text/x-python",
   "name": "python",
   "nbconvert_exporter": "python",
   "pygments_lexer": "ipython2",
   "version": "2.7.12"
  }
 },
 "nbformat": 4,
 "nbformat_minor": 2
}
