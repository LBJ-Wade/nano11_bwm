{
 "cells": [
  {
   "cell_type": "code",
   "execution_count": 2,
   "metadata": {},
   "outputs": [],
   "source": [
    "import os, json\n",
    "import numpy as np\n",
    "import pandas as pd\n",
    "import matplotlib.pyplot as plt\n",
    "\n",
    "from corner import corner\n",
    "from acor import acor\n",
    "from utils.UL_uncert import UL_uncert\n",
    "\n",
    "from astropy.time import Time\n",
    "from matplotlib.colors import LogNorm\n",
    "\n",
    "%matplotlib inline"
   ]
  },
  {
   "cell_type": "code",
   "execution_count": 3,
   "metadata": {},
   "outputs": [],
   "source": [
    "plt.rcParams.update(plt.rcParamsDefault)\n",
    "params = {'backend': 'pdf',\n",
    "        'axes.labelsize': 12,\n",
    "        'lines.markersize': 4,\n",
    "        'font.size': 12,\n",
    "        'xtick.major.size':6,\n",
    "        'xtick.minor.size':3,\n",
    "        'ytick.major.size':6,\n",
    "        'ytick.minor.size':3,\n",
    "        'xtick.major.width':0.7,\n",
    "        'ytick.major.width':0.7,\n",
    "        'xtick.minor.width':0.7,\n",
    "        'ytick.minor.width':0.7,\n",
    "        'lines.markeredgewidth':1.2,\n",
    "        'axes.linewidth':1.125,\n",
    "        'legend.fontsize': 12,\n",
    "        'xtick.labelsize': 12,\n",
    "        'ytick.labelsize': 12,\n",
    "        'savefig.dpi':200,\n",
    "        'path.simplify':True,\n",
    "        #'font.family':'serif',\n",
    "        #'font.serif':'Computer Modern Roman',\n",
    "        'mathtext.fontset':'cm',\n",
    "        #'text.latex.preamble':'\\\\usepackage{amsmath}',\n",
    "        'text.usetex':True,\n",
    "         }\n",
    "\n",
    "plt.rcParams.update(params)"
   ]
  },
  {
   "cell_type": "markdown",
   "metadata": {},
   "source": [
    "# 11yr BWM plots\n",
    "\n",
    "scripts to reproduce the figures in the 11yr BWM paper.\n",
    "\n",
    "This is super messy, because the storage formatting evolved over many reruns..."
   ]
  },
  {
   "cell_type": "markdown",
   "metadata": {},
   "source": [
    "## pulsar term Bayes factor"
   ]
  },
  {
   "cell_type": "code",
   "execution_count": null,
   "metadata": {},
   "outputs": [],
   "source": [
    "with open('/home/pbaker/nanograv/bwm/sngl/detect_DE436/sngl_BF.json') as fin:\n",
    "    bf_dict = json.load(fin)"
   ]
  },
  {
   "cell_type": "markdown",
   "metadata": {},
   "source": [
    "which PSRs have $\\mathcal{B}>1$ ?"
   ]
  },
  {
   "cell_type": "code",
   "execution_count": null,
   "metadata": {},
   "outputs": [],
   "source": [
    "[(k,v) for k,v in bf_dict.items() if v>1]"
   ]
  },
  {
   "cell_type": "markdown",
   "metadata": {},
   "source": [
    "### sngl BF hist"
   ]
  },
  {
   "cell_type": "code",
   "execution_count": null,
   "metadata": {},
   "outputs": [],
   "source": [
    "ar_kwargs = {'arrowstyle':'->'}\n",
    "\n",
    "bfs = [x for x in bf_dict.values()]\n",
    "plt.figure(figsize=(5,3))\n",
    "\n",
    "plt.hist(bfs, bins=20);\n",
    "plt.xlabel('Bayes factor')\n",
    "plt.ylabel('Counts')\n",
    "plt.axvline(x=1, ls=':', color='C1')\n",
    "\n",
    "psrs = ['J1909$-$3744', 'J1747$-$4036', 'J1744$-$1134']\n",
    "arrow_loc = [(1.32, 1.1), (1.63, 1.1), (3.50, 1.1)]\n",
    "text_loc = [(1.1, 7), (1.6, 4), (2.8, 4)]\n",
    "\n",
    "for p, xy, xytext in zip(psrs, arrow_loc, text_loc):\n",
    "    plt.annotate(p, xy, xytext, arrowprops=ar_kwargs)\n",
    "\n",
    "plt.tight_layout()\n",
    "plt.savefig('/home/pbaker/psrTerm_BF.pdf')"
   ]
  },
  {
   "cell_type": "markdown",
   "metadata": {},
   "source": [
    "use for logBF\n",
    "```\n",
    "ar_kwargs = {'arrowstyle':'->'}\n",
    "\n",
    "bfs = [x for x in bf_dict.values()]\n",
    "plt.figure(figsize=(5,3))\n",
    "\n",
    "plt.hist(np.log10(bfs), bins=25);\n",
    "plt.xlabel('bayes factor')\n",
    "plt.ylabel('counts')\n",
    "plt.axvline(x=0, ls=':', color='C1')\n",
    "\n",
    "psrs = ['J1909-3744', 'J1747-4036', 'J1744-1134']\n",
    "arrow_loc = [(0.14, 1.1), (0.22, 1.1), (0.53, 1.1)]\n",
    "text_loc = [(0.02, 4), (0.20, 3), (0.40, 2.2)]\n",
    "\n",
    "for p, xy, xytext in zip(psrs, arrow_loc, text_loc):\n",
    "    plt.annotate(p, xy, xytext, arrowprops=ar_kwargs)\n",
    "\n",
    "plt.tight_layout()\n",
    "plt.savefig('/home/pbaker/psrTerm_BF.pdf')\n",
    "```"
   ]
  },
  {
   "cell_type": "markdown",
   "metadata": {},
   "source": [
    "## UL v T"
   ]
  },
  {
   "cell_type": "markdown",
   "metadata": {},
   "source": [
    "### load UL v. T data\n",
    "\n",
    "11yr:"
   ]
  },
  {
   "cell_type": "code",
   "execution_count": null,
   "metadata": {},
   "outputs": [],
   "source": [
    "# binned by source orientation reruns\n",
    "with open('/home/pbaker/nanograv/bwm/ULvT/ULs.json', 'r') as fin:\n",
    "    ULmarg = json.load(fin)\n",
    "\n",
    "key = 'DE430'\n",
    "ULs_430 = [x[1] for x in ULmarg[key]]\n",
    "low_430 = [x[1]-x[2] for x in ULmarg[key]]\n",
    "high_430 = [x[1]+x[2] for x in ULmarg[key]]\n",
    "\n",
    "key = 'DE436'\n",
    "ULs_436 = [x[1] for x in ULmarg[key]]\n",
    "low_436 = [x[1]-x[2] for x in ULmarg[key]]\n",
    "high_436 = [x[1]+x[2] for x in ULmarg[key]]\n",
    "\n",
    "key = 'DE436_BE'\n",
    "ULs_BE = [x[1] for x in ULmarg[key]]\n",
    "low_BE = [x[1]-x[2] for x in ULmarg[key]]\n",
    "high_BE = [x[1]+x[2] for x in ULmarg[key]]\n",
    "\n",
    "T11 = [x[0] for x in ULmarg[key]]\n",
    "T11 = Time(T11, format='mjd').decimalyear\n",
    "\n",
    "\n",
    "# use BayesEphem for Rate ULs\n",
    "key = 'DE436_BE'\n",
    "UL_11 = np.array(ULmarg[key]).T"
   ]
  },
  {
   "cell_type": "markdown",
   "metadata": {},
   "source": [
    "9yr:"
   ]
  },
  {
   "cell_type": "code",
   "execution_count": null,
   "metadata": {},
   "outputs": [],
   "source": [
    "col_9yr = np.loadtxt('ULvT/9yr_cols.dat', dtype=str)\n",
    "UL_9yr = np.loadtxt('ULvT/9yr_UL.dat')\n",
    "dUL_9yr = np.loadtxt('ULvT/9yr_dUL.dat')\n",
    "T9 = np.loadtxt('ULvT/9yr_Ts.dat')\n",
    "\n",
    "# only show BayesEphem\n",
    "ii = list(col_9yr).index('DE436_BE')\n",
    "high_9 = UL_9yr[ii] + dUL_9yr[ii]\n",
    "low_9 = UL_9yr[ii] - dUL_9yr[ii]\n",
    "ULs_9 = UL_9yr[ii]"
   ]
  },
  {
   "cell_type": "markdown",
   "metadata": {},
   "source": [
    "11yr pulsar term:"
   ]
  },
  {
   "cell_type": "code",
   "execution_count": 3,
   "metadata": {},
   "outputs": [],
   "source": [
    "sngl_runs = '/home/pbaker/nanograv/bwm/sngl/uplim_DE436'\n",
    "\n",
    "psrlist = '/home/pbaker/nanograv/data/nano11/11yr_34.txt'\n",
    "with open(psrlist, 'r') as f:\n",
    "    all_psrs = [line.strip() for line in f]\n",
    "all_psrs.sort()\n",
    "\n",
    "UL_dict = {}\n",
    "for psr in all_psrs:\n",
    "    ULfile = os.path.join(sngl_runs, psr, \"ULvT_{:s}.dat\".format(psr))\n",
    "    UL_dict[psr] = np.loadtxt(ULfile)\n",
    "    UL_dict[psr][0] = Time(UL_dict[psr][0], format='mjd').decimalyear"
   ]
  },
  {
   "cell_type": "markdown",
   "metadata": {},
   "source": [
    "### make plots"
   ]
  },
  {
   "cell_type": "code",
   "execution_count": null,
   "metadata": {},
   "outputs": [],
   "source": [
    "al = 0.25\n",
    "\n",
    "plt.close('all')\n",
    "\n",
    "fig = plt.figure(figsize=(5,4))\n",
    "ax1, ax2 = fig.subplots(2, 1, sharex=True)\n",
    "\n",
    "ax1.fill_between(T11, low_BE, high_BE, color='k', alpha=al)\n",
    "ax1.plot(T11, ULs_BE, color='k', label='11 yr')\n",
    "\n",
    "ax1.fill_between(T9, low_9, high_9, color='C2', alpha=al)\n",
    "ax1.plot(T9, ULs_9, color='C2', label=' 9y r')\n",
    "\n",
    "ax1.legend(loc='upper center', fontsize=12)\n",
    "ax1.set_yscale('log')\n",
    "ax1.set_ylabel(r'$95\\%$ UL (strain)', fontsize=12)\n",
    "\n",
    "ax2.fill_between(T11, low_436, high_436, color='C0', alpha=al)\n",
    "ax2.plot(T11, ULs_436, color='C0', label='DE436')\n",
    "\n",
    "ax2.fill_between(T11, low_430, high_430, color='C1', alpha=al)\n",
    "ax2.plot(T11, ULs_430, color='C1', label='DE430')\n",
    "\n",
    "ax2.fill_between(T11, low_BE, high_BE, color='k', alpha=al)\n",
    "ax2.plot(T11, ULs_BE, color='k', label='BayesEphem')\n",
    "\n",
    "ax2.legend(loc='upper center', fontsize=12)\n",
    "ax2.set_yscale('log')\n",
    "ax2.set_xlabel(r'Burst epoch', fontsize=12)\n",
    "ax2.set_ylabel(r'$95\\%$ UL (strain)', fontsize=12)\n",
    "plt.tight_layout()\n",
    "\n",
    "plt.savefig(\"/home/pbaker/UL_v_t.pdf\")"
   ]
  },
  {
   "cell_type": "code",
   "execution_count": null,
   "metadata": {},
   "outputs": [],
   "source": [
    "sngl_runs = '/home/pbaker/nanograv/bwm/sngl/uplim_DE436'\n",
    "pname = 'J1713+0747'\n",
    "\n",
    "ULfile = os.path.join(sngl_runs, pname, \"ULvT_{:s}.dat\".format(pname))\n",
    "J1713_opt = np.loadtxt(ULfile)\n",
    "\n",
    "J1713_Ts = Time(J1713_opt[0], format='mjd').decimalyear\n",
    "\n",
    "J1713_ULs = [x[1] for x in J1713_opt.T]\n",
    "J1713_low = [x[1]-x[2] for x in J1713_opt.T]\n",
    "J1713_high = [x[1]+x[2] for x in J1713_opt.T]\n",
    "\n",
    "\n",
    "# earth-term best source orientation for each time bin (from ULvt_post.ipynb)\n",
    "best = np.array(\n",
    "    [1.44490506e-13, 6.22070408e-14, 2.19012534e-14, 1.51206219e-14,\n",
    "     1.28900134e-14, 6.88746799e-15, 7.46864473e-15, 7.78535327e-15,\n",
    "     4.71788123e-15, 5.57351006e-15, 5.75463446e-15, 6.61798374e-15,\n",
    "     5.38088219e-15, 5.22685056e-15, 5.15507171e-15, 5.10055013e-15,\n",
    "     5.84093593e-15, 4.13696718e-15, 5.07611726e-15, 4.18810852e-15,\n",
    "     4.16668178e-15, 4.22520830e-15, 3.68823550e-15, 3.79931560e-15,\n",
    "     4.01828926e-15, 4.47221972e-15, 2.99191590e-15, 4.93018684e-15,\n",
    "     3.48198989e-15, 4.19956015e-15, 2.53736492e-15, 4.12775499e-15,\n",
    "     3.85474276e-15, 3.03049650e-15, 4.43941884e-15, 4.21373834e-15,\n",
    "     5.21945653e-15, 5.32721146e-15, 8.77647508e-15, 1.31618897e-14]\n",
    ")"
   ]
  },
  {
   "cell_type": "code",
   "execution_count": null,
   "metadata": {},
   "outputs": [],
   "source": [
    "plt.close()\n",
    "fig = plt.figure(figsize=(5,3))\n",
    "\n",
    "plt.fill_between(T11, low_BE, high_BE, color='k', alpha=al)\n",
    "plt.plot(T11, ULs_BE, color='k', label='sky ave. Earth term')\n",
    "\n",
    "plt.plot(T11, best, ls='--', color='k', label=\"best sky Earth term\")\n",
    "\n",
    "#plt.plot(*J1713_UL, color='k', label=pname+\" sky-ave\")\n",
    "plt.fill_between(J1713_Ts, J1713_low, J1713_high, color='gray', alpha=al)\n",
    "plt.plot(J1713_Ts, J1713_ULs, ls='--', color='gray', label=pname+\" opt. source\")\n",
    "\n",
    "\n",
    "plt.legend(loc='upper center')\n",
    "plt.yscale('log')\n",
    "plt.xlabel(r'Burst epoch')\n",
    "plt.ylabel(r'$95\\%$ UL (strain)');\n",
    "\n",
    "plt.tight_layout()\n",
    "plt.savefig(\"/home/pbaker/UL_v_t_compare.pdf\")"
   ]
  },
  {
   "cell_type": "markdown",
   "metadata": {},
   "source": [
    "### rate ULs"
   ]
  },
  {
   "cell_type": "code",
   "execution_count": null,
   "metadata": {},
   "outputs": [],
   "source": [
    "# 9yr \n",
    "dT_9 = np.mean(np.diff(T9))\n",
    "hsort_9 = np.sort(UL_9yr[0])\n",
    "Ns_9 = np.arange(len(hsort_9))+1\n",
    "\n",
    "# 11yr\n",
    "dT_11 = np.mean(np.diff(UL_11[0]))/365.25\n",
    "hsort_11 = np.sort(UL_11[1])\n",
    "Ns_11 = np.arange(len(hsort_11))+1\n",
    "\n",
    "# 11yr PSR-term\n",
    "#sngl_ULs = UL_11yr[0]  # uncomment for joint earth-term + psr-term\n",
    "rescale = np.pi\n",
    "\n",
    "sngl_ULs = []  # psr term only\n",
    "for _,uls,_ in UL_dict.values():\n",
    "    sngl_ULs = np.hstack([sngl_ULs, uls])\n",
    "\n",
    "dT_psr = np.mean(np.diff(J1713_opt[0]))/365.25\n",
    "hsort_psr = np.sort(sngl_ULs) * rescale\n",
    "Ns_psr = np.arange(len(hsort_psr)) + 1"
   ]
  },
  {
   "cell_type": "markdown",
   "metadata": {},
   "source": [
    "5yr ULs from Dusty:"
   ]
  },
  {
   "cell_type": "code",
   "execution_count": null,
   "metadata": {},
   "outputs": [],
   "source": [
    "#NG5 ULs\n",
    "ng5_e = np.loadtxt(\"/home/pbaker/ng5_eTerm.txt\").T\n",
    "ng5_p = np.loadtxt(\"/home/pbaker/ng5_pTerm.txt\").T"
   ]
  },
  {
   "cell_type": "markdown",
   "metadata": {},
   "source": [
    "Rate predictions from Islo, et al. (2019)"
   ]
  },
  {
   "cell_type": "code",
   "execution_count": null,
   "metadata": {},
   "outputs": [],
   "source": [
    "dat = np.load(\"rate_vs_strain_Sesana_finegrain_10.npy\").T"
   ]
  },
  {
   "cell_type": "markdown",
   "metadata": {},
   "source": [
    "rate UL plot:"
   ]
  },
  {
   "cell_type": "code",
   "execution_count": null,
   "metadata": {},
   "outputs": [],
   "source": [
    "wid=2\n",
    "fig = plt.figure(figsize=(9,3))\n",
    "ax1, ax2 = fig.subplots(1, 2)\n",
    "\n",
    "# compare with \n",
    "ax1.plot(*dat, color='C3', lw=wid, label='predicted rate')\n",
    "ax1.plot(hsort_psr, 1/(Ns_psr*dT_psr), color='C0', ls='--', lw=wid, label='11 yr pulsar term')\n",
    "ax1.plot(hsort_11, 1/(Ns_11*dT_11), color='C0', lw=wid, label='11 yr Earth term')\n",
    "\n",
    "\n",
    "# zoom\n",
    "ax2.plot(hsort_psr, 1/(Ns_psr*dT_psr), color='C0', ls='--', lw=wid, label='11 yr pulsar term')\n",
    "ax2.plot(hsort_11, 1/(Ns_11*dT_11), color='C0', lw=wid, label='11 yr Earth term')\n",
    "\n",
    "ax2.plot(*ng5_p, color='C1', ls='--', lw=wid,label='5 yr pulsar term')\n",
    "ax2.plot(*ng5_e, color='C1', lw=wid, label='5 yr Earth term')\n",
    "\n",
    "for ax in fig.axes:\n",
    "    ax.set_xlabel('Strain, $h_\\mathrm{gw}$')#, fontsize=16)\n",
    "    ax.set_ylabel('Event rate UL ($N$/yr)')#, fontsize=16)\n",
    "    ax.set_xscale('log')\n",
    "    ax.set_yscale('log')\n",
    "    ax.legend()\n",
    "\n",
    "ax1.set_xlim([1e-22, 1e-11])\n",
    "ax2.set_xlim([1e-14, 1e-11])\n",
    "    \n",
    "plt.tight_layout()\n",
    "plt.savefig('/home/pbaker/rateUL_compare.pdf')"
   ]
  },
  {
   "cell_type": "code",
   "execution_count": null,
   "metadata": {},
   "outputs": [],
   "source": [
    "# median sky sensitivity compare:\n",
    "\n",
    "thr = 2.5e-14\n",
    "ii = np.searchsorted(ng5_e[0], thr)\n",
    "ng5_thr = ng5_e[1][ii]\n",
    "\n",
    "ii = np.searchsorted(hsort_11, thr)\n",
    "ng11_thr = 1/(Ns_11*dT_11)[ii]\n",
    "\n",
    "print(ng5_thr / ng11_thr)\n",
    "\n",
    "\n",
    "ii = np.searchsorted(ng5_p[0], thr)\n",
    "ng5_thr = ng5_p[1][ii]\n",
    "\n",
    "ii = np.searchsorted(hsort_psr, thr)\n",
    "ng11_thr = 1/(Ns_psr*dT_11)[ii]\n",
    "\n",
    "print(ng5_thr / ng11_thr)"
   ]
  },
  {
   "cell_type": "code",
   "execution_count": null,
   "metadata": {},
   "outputs": [],
   "source": [
    "# Large h compare (Earth Term)\n",
    "\n",
    "thr = 1e-12\n",
    "ii = np.searchsorted(ng5_e[0], thr)\n",
    "ng5_thr = ng5_e[1][ii]\n",
    "\n",
    "ii = np.searchsorted(hsort_11, thr)\n",
    "ng11_thr = 1/(Ns_11*dT_11)[ii]\n",
    "\n",
    "print(ng5_thr / ng11_thr)\n"
   ]
  },
  {
   "cell_type": "code",
   "execution_count": null,
   "metadata": {},
   "outputs": [],
   "source": [
    "# Large h compare (pulsar-term)\n",
    "\n",
    "thr = ng5_p[0][-1]\n",
    "ng5_thr = ng5_p[1][-1]\n",
    "\n",
    "ii = np.searchsorted(hsort_psr, thr)\n",
    "ng11_thr = 1/(Ns_psr*dT_11)[ii]\n",
    "\n",
    "print(ng5_thr / ng11_thr, thr)"
   ]
  },
  {
   "cell_type": "markdown",
   "metadata": {},
   "source": [
    "## skymap"
   ]
  },
  {
   "cell_type": "code",
   "execution_count": 4,
   "metadata": {},
   "outputs": [],
   "source": [
    "import healpy as hp\n",
    "import skyplot_tools as spt\n",
    "from matplotlib.colors import LogNorm"
   ]
  },
  {
   "cell_type": "code",
   "execution_count": 5,
   "metadata": {},
   "outputs": [],
   "source": [
    "psr_dict = {}\n",
    "with open('11yr_locs.txt', 'r') as f:\n",
    "    for line in f:\n",
    "        line = line.split()\n",
    "        psr_dict[line[0]] = [float(line[1]), float(line[2])]\n",
    "    \n",
    "psr_locs = []\n",
    "for p in all_psrs:\n",
    "    psr_locs.append(psr_dict[p])\n",
    "psr_locs = np.array(psr_locs)"
   ]
  },
  {
   "cell_type": "code",
   "execution_count": 6,
   "metadata": {},
   "outputs": [],
   "source": [
    "nside = 8 #corresponds to 768 pixels\n",
    "npix = hp.nside2npix(nside)"
   ]
  },
  {
   "cell_type": "code",
   "execution_count": 7,
   "metadata": {},
   "outputs": [
    {
     "name": "stdout",
     "output_type": "stream",
     "text": [
      "min = 1.09e-14; max = 1.12e-13\n"
     ]
    }
   ],
   "source": [
    "rundir = '/home/pbaker/nanograv/bwm/fixsky/latetime_BE/'\n",
    "run, skymap, Ns, cors = np.loadtxt(rundir+'ULs.dat').T\n",
    "\n",
    "print(\"min = {:.2e}; max = {:.2e}\".format(min(10**skymap), max(10**skymap)))"
   ]
  },
  {
   "cell_type": "code",
   "execution_count": 8,
   "metadata": {},
   "outputs": [
    {
     "ename": "KeyError",
     "evalue": "b'tcss3583'",
     "output_type": "error",
     "traceback": [
      "\u001b[0;31m---------------------------------------------------------------------------\u001b[0m",
      "\u001b[0;31mKeyError\u001b[0m                                  Traceback (most recent call last)",
      "\u001b[0;32m<ipython-input-8-2ba3cccc35c1>\u001b[0m in \u001b[0;36m<module>\u001b[0;34m\u001b[0m\n\u001b[1;32m     19\u001b[0m \u001b[0mplt\u001b[0m\u001b[0;34m.\u001b[0m\u001b[0mgrid\u001b[0m\u001b[0;34m(\u001b[0m\u001b[0mlinestyle\u001b[0m\u001b[0;34m=\u001b[0m\u001b[0;34m'dotted'\u001b[0m\u001b[0;34m,\u001b[0m \u001b[0mcolor\u001b[0m\u001b[0;34m=\u001b[0m\u001b[0;34m'k'\u001b[0m\u001b[0;34m)\u001b[0m\u001b[0;34m\u001b[0m\u001b[0;34m\u001b[0m\u001b[0m\n\u001b[1;32m     20\u001b[0m \u001b[0mplt\u001b[0m\u001b[0;34m.\u001b[0m\u001b[0mtight_layout\u001b[0m\u001b[0;34m(\u001b[0m\u001b[0;34m)\u001b[0m\u001b[0;34m\u001b[0m\u001b[0;34m\u001b[0m\u001b[0m\n\u001b[0;32m---> 21\u001b[0;31m \u001b[0mplt\u001b[0m\u001b[0;34m.\u001b[0m\u001b[0msavefig\u001b[0m\u001b[0;34m(\u001b[0m\u001b[0;34m'/home/pbaker/skymap_11yr.pdf'\u001b[0m\u001b[0;34m)\u001b[0m\u001b[0;34m\u001b[0m\u001b[0;34m\u001b[0m\u001b[0m\n\u001b[0m\u001b[1;32m     22\u001b[0m \u001b[0mplt\u001b[0m\u001b[0;34m.\u001b[0m\u001b[0mshow\u001b[0m\u001b[0;34m(\u001b[0m\u001b[0;34m)\u001b[0m\u001b[0;34m\u001b[0m\u001b[0;34m\u001b[0m\u001b[0m\n",
      "\u001b[0;32m~/.local/opt/miniconda/envs/enterprise/lib/python3.6/site-packages/matplotlib/pyplot.py\u001b[0m in \u001b[0;36msavefig\u001b[0;34m(*args, **kwargs)\u001b[0m\n\u001b[1;32m    687\u001b[0m \u001b[0;32mdef\u001b[0m \u001b[0msavefig\u001b[0m\u001b[0;34m(\u001b[0m\u001b[0;34m*\u001b[0m\u001b[0margs\u001b[0m\u001b[0;34m,\u001b[0m \u001b[0;34m**\u001b[0m\u001b[0mkwargs\u001b[0m\u001b[0;34m)\u001b[0m\u001b[0;34m:\u001b[0m\u001b[0;34m\u001b[0m\u001b[0;34m\u001b[0m\u001b[0m\n\u001b[1;32m    688\u001b[0m     \u001b[0mfig\u001b[0m \u001b[0;34m=\u001b[0m \u001b[0mgcf\u001b[0m\u001b[0;34m(\u001b[0m\u001b[0;34m)\u001b[0m\u001b[0;34m\u001b[0m\u001b[0;34m\u001b[0m\u001b[0m\n\u001b[0;32m--> 689\u001b[0;31m     \u001b[0mres\u001b[0m \u001b[0;34m=\u001b[0m \u001b[0mfig\u001b[0m\u001b[0;34m.\u001b[0m\u001b[0msavefig\u001b[0m\u001b[0;34m(\u001b[0m\u001b[0;34m*\u001b[0m\u001b[0margs\u001b[0m\u001b[0;34m,\u001b[0m \u001b[0;34m**\u001b[0m\u001b[0mkwargs\u001b[0m\u001b[0;34m)\u001b[0m\u001b[0;34m\u001b[0m\u001b[0;34m\u001b[0m\u001b[0m\n\u001b[0m\u001b[1;32m    690\u001b[0m     \u001b[0mfig\u001b[0m\u001b[0;34m.\u001b[0m\u001b[0mcanvas\u001b[0m\u001b[0;34m.\u001b[0m\u001b[0mdraw_idle\u001b[0m\u001b[0;34m(\u001b[0m\u001b[0;34m)\u001b[0m   \u001b[0;31m# need this if 'transparent=True' to reset colors\u001b[0m\u001b[0;34m\u001b[0m\u001b[0;34m\u001b[0m\u001b[0m\n\u001b[1;32m    691\u001b[0m     \u001b[0;32mreturn\u001b[0m \u001b[0mres\u001b[0m\u001b[0;34m\u001b[0m\u001b[0;34m\u001b[0m\u001b[0m\n",
      "\u001b[0;32m~/.local/opt/miniconda/envs/enterprise/lib/python3.6/site-packages/matplotlib/figure.py\u001b[0m in \u001b[0;36msavefig\u001b[0;34m(self, fname, frameon, transparent, **kwargs)\u001b[0m\n\u001b[1;32m   2092\u001b[0m             \u001b[0mself\u001b[0m\u001b[0;34m.\u001b[0m\u001b[0mset_frameon\u001b[0m\u001b[0;34m(\u001b[0m\u001b[0mframeon\u001b[0m\u001b[0;34m)\u001b[0m\u001b[0;34m\u001b[0m\u001b[0;34m\u001b[0m\u001b[0m\n\u001b[1;32m   2093\u001b[0m \u001b[0;34m\u001b[0m\u001b[0m\n\u001b[0;32m-> 2094\u001b[0;31m         \u001b[0mself\u001b[0m\u001b[0;34m.\u001b[0m\u001b[0mcanvas\u001b[0m\u001b[0;34m.\u001b[0m\u001b[0mprint_figure\u001b[0m\u001b[0;34m(\u001b[0m\u001b[0mfname\u001b[0m\u001b[0;34m,\u001b[0m \u001b[0;34m**\u001b[0m\u001b[0mkwargs\u001b[0m\u001b[0;34m)\u001b[0m\u001b[0;34m\u001b[0m\u001b[0;34m\u001b[0m\u001b[0m\n\u001b[0m\u001b[1;32m   2095\u001b[0m \u001b[0;34m\u001b[0m\u001b[0m\n\u001b[1;32m   2096\u001b[0m         \u001b[0;32mif\u001b[0m \u001b[0mframeon\u001b[0m\u001b[0;34m:\u001b[0m\u001b[0;34m\u001b[0m\u001b[0;34m\u001b[0m\u001b[0m\n",
      "\u001b[0;32m~/.local/opt/miniconda/envs/enterprise/lib/python3.6/site-packages/matplotlib/backend_bases.py\u001b[0m in \u001b[0;36mprint_figure\u001b[0;34m(self, filename, dpi, facecolor, edgecolor, orientation, format, bbox_inches, **kwargs)\u001b[0m\n\u001b[1;32m   2073\u001b[0m                     \u001b[0morientation\u001b[0m\u001b[0;34m=\u001b[0m\u001b[0morientation\u001b[0m\u001b[0;34m,\u001b[0m\u001b[0;34m\u001b[0m\u001b[0;34m\u001b[0m\u001b[0m\n\u001b[1;32m   2074\u001b[0m                     \u001b[0mbbox_inches_restore\u001b[0m\u001b[0;34m=\u001b[0m\u001b[0m_bbox_inches_restore\u001b[0m\u001b[0;34m,\u001b[0m\u001b[0;34m\u001b[0m\u001b[0;34m\u001b[0m\u001b[0m\n\u001b[0;32m-> 2075\u001b[0;31m                     **kwargs)\n\u001b[0m\u001b[1;32m   2076\u001b[0m             \u001b[0;32mfinally\u001b[0m\u001b[0;34m:\u001b[0m\u001b[0;34m\u001b[0m\u001b[0;34m\u001b[0m\u001b[0m\n\u001b[1;32m   2077\u001b[0m                 \u001b[0;32mif\u001b[0m \u001b[0mbbox_inches\u001b[0m \u001b[0;32mand\u001b[0m \u001b[0mrestore_bbox\u001b[0m\u001b[0;34m:\u001b[0m\u001b[0;34m\u001b[0m\u001b[0;34m\u001b[0m\u001b[0m\n",
      "\u001b[0;32m~/.local/opt/miniconda/envs/enterprise/lib/python3.6/site-packages/matplotlib/backends/backend_pdf.py\u001b[0m in \u001b[0;36mprint_pdf\u001b[0;34m(self, filename, dpi, bbox_inches_restore, metadata, **kwargs)\u001b[0m\n\u001b[1;32m   2563\u001b[0m                 \u001b[0mRendererPdf\u001b[0m\u001b[0;34m(\u001b[0m\u001b[0mfile\u001b[0m\u001b[0;34m,\u001b[0m \u001b[0mdpi\u001b[0m\u001b[0;34m,\u001b[0m \u001b[0mheight\u001b[0m\u001b[0;34m,\u001b[0m \u001b[0mwidth\u001b[0m\u001b[0;34m)\u001b[0m\u001b[0;34m,\u001b[0m\u001b[0;34m\u001b[0m\u001b[0;34m\u001b[0m\u001b[0m\n\u001b[1;32m   2564\u001b[0m                 bbox_inches_restore=bbox_inches_restore)\n\u001b[0;32m-> 2565\u001b[0;31m             \u001b[0mself\u001b[0m\u001b[0;34m.\u001b[0m\u001b[0mfigure\u001b[0m\u001b[0;34m.\u001b[0m\u001b[0mdraw\u001b[0m\u001b[0;34m(\u001b[0m\u001b[0mrenderer\u001b[0m\u001b[0;34m)\u001b[0m\u001b[0;34m\u001b[0m\u001b[0;34m\u001b[0m\u001b[0m\n\u001b[0m\u001b[1;32m   2566\u001b[0m             \u001b[0mrenderer\u001b[0m\u001b[0;34m.\u001b[0m\u001b[0mfinalize\u001b[0m\u001b[0;34m(\u001b[0m\u001b[0;34m)\u001b[0m\u001b[0;34m\u001b[0m\u001b[0;34m\u001b[0m\u001b[0m\n\u001b[1;32m   2567\u001b[0m             \u001b[0;32mif\u001b[0m \u001b[0;32mnot\u001b[0m \u001b[0misinstance\u001b[0m\u001b[0;34m(\u001b[0m\u001b[0mfilename\u001b[0m\u001b[0;34m,\u001b[0m \u001b[0mPdfPages\u001b[0m\u001b[0;34m)\u001b[0m\u001b[0;34m:\u001b[0m\u001b[0;34m\u001b[0m\u001b[0;34m\u001b[0m\u001b[0m\n",
      "\u001b[0;32m~/.local/opt/miniconda/envs/enterprise/lib/python3.6/site-packages/matplotlib/artist.py\u001b[0m in \u001b[0;36mdraw_wrapper\u001b[0;34m(artist, renderer, *args, **kwargs)\u001b[0m\n\u001b[1;32m     48\u001b[0m                 \u001b[0mrenderer\u001b[0m\u001b[0;34m.\u001b[0m\u001b[0mstart_filter\u001b[0m\u001b[0;34m(\u001b[0m\u001b[0;34m)\u001b[0m\u001b[0;34m\u001b[0m\u001b[0;34m\u001b[0m\u001b[0m\n\u001b[1;32m     49\u001b[0m \u001b[0;34m\u001b[0m\u001b[0m\n\u001b[0;32m---> 50\u001b[0;31m             \u001b[0;32mreturn\u001b[0m \u001b[0mdraw\u001b[0m\u001b[0;34m(\u001b[0m\u001b[0martist\u001b[0m\u001b[0;34m,\u001b[0m \u001b[0mrenderer\u001b[0m\u001b[0;34m,\u001b[0m \u001b[0;34m*\u001b[0m\u001b[0margs\u001b[0m\u001b[0;34m,\u001b[0m \u001b[0;34m**\u001b[0m\u001b[0mkwargs\u001b[0m\u001b[0;34m)\u001b[0m\u001b[0;34m\u001b[0m\u001b[0;34m\u001b[0m\u001b[0m\n\u001b[0m\u001b[1;32m     51\u001b[0m         \u001b[0;32mfinally\u001b[0m\u001b[0;34m:\u001b[0m\u001b[0;34m\u001b[0m\u001b[0;34m\u001b[0m\u001b[0m\n\u001b[1;32m     52\u001b[0m             \u001b[0;32mif\u001b[0m \u001b[0martist\u001b[0m\u001b[0;34m.\u001b[0m\u001b[0mget_agg_filter\u001b[0m\u001b[0;34m(\u001b[0m\u001b[0;34m)\u001b[0m \u001b[0;32mis\u001b[0m \u001b[0;32mnot\u001b[0m \u001b[0;32mNone\u001b[0m\u001b[0;34m:\u001b[0m\u001b[0;34m\u001b[0m\u001b[0;34m\u001b[0m\u001b[0m\n",
      "\u001b[0;32m~/.local/opt/miniconda/envs/enterprise/lib/python3.6/site-packages/matplotlib/figure.py\u001b[0m in \u001b[0;36mdraw\u001b[0;34m(self, renderer)\u001b[0m\n\u001b[1;32m   1647\u001b[0m \u001b[0;34m\u001b[0m\u001b[0m\n\u001b[1;32m   1648\u001b[0m             mimage._draw_list_compositing_images(\n\u001b[0;32m-> 1649\u001b[0;31m                 renderer, self, artists, self.suppressComposite)\n\u001b[0m\u001b[1;32m   1650\u001b[0m \u001b[0;34m\u001b[0m\u001b[0m\n\u001b[1;32m   1651\u001b[0m             \u001b[0mrenderer\u001b[0m\u001b[0;34m.\u001b[0m\u001b[0mclose_group\u001b[0m\u001b[0;34m(\u001b[0m\u001b[0;34m'figure'\u001b[0m\u001b[0;34m)\u001b[0m\u001b[0;34m\u001b[0m\u001b[0;34m\u001b[0m\u001b[0m\n",
      "\u001b[0;32m~/.local/opt/miniconda/envs/enterprise/lib/python3.6/site-packages/matplotlib/image.py\u001b[0m in \u001b[0;36m_draw_list_compositing_images\u001b[0;34m(renderer, parent, artists, suppress_composite)\u001b[0m\n\u001b[1;32m    136\u001b[0m     \u001b[0;32mif\u001b[0m \u001b[0mnot_composite\u001b[0m \u001b[0;32mor\u001b[0m \u001b[0;32mnot\u001b[0m \u001b[0mhas_images\u001b[0m\u001b[0;34m:\u001b[0m\u001b[0;34m\u001b[0m\u001b[0;34m\u001b[0m\u001b[0m\n\u001b[1;32m    137\u001b[0m         \u001b[0;32mfor\u001b[0m \u001b[0ma\u001b[0m \u001b[0;32min\u001b[0m \u001b[0martists\u001b[0m\u001b[0;34m:\u001b[0m\u001b[0;34m\u001b[0m\u001b[0;34m\u001b[0m\u001b[0m\n\u001b[0;32m--> 138\u001b[0;31m             \u001b[0ma\u001b[0m\u001b[0;34m.\u001b[0m\u001b[0mdraw\u001b[0m\u001b[0;34m(\u001b[0m\u001b[0mrenderer\u001b[0m\u001b[0;34m)\u001b[0m\u001b[0;34m\u001b[0m\u001b[0;34m\u001b[0m\u001b[0m\n\u001b[0m\u001b[1;32m    139\u001b[0m     \u001b[0;32melse\u001b[0m\u001b[0;34m:\u001b[0m\u001b[0;34m\u001b[0m\u001b[0;34m\u001b[0m\u001b[0m\n\u001b[1;32m    140\u001b[0m         \u001b[0;31m# Composite any adjacent images together\u001b[0m\u001b[0;34m\u001b[0m\u001b[0;34m\u001b[0m\u001b[0;34m\u001b[0m\u001b[0m\n",
      "\u001b[0;32m~/.local/opt/miniconda/envs/enterprise/lib/python3.6/site-packages/matplotlib/artist.py\u001b[0m in \u001b[0;36mdraw_wrapper\u001b[0;34m(artist, renderer, *args, **kwargs)\u001b[0m\n\u001b[1;32m     48\u001b[0m                 \u001b[0mrenderer\u001b[0m\u001b[0;34m.\u001b[0m\u001b[0mstart_filter\u001b[0m\u001b[0;34m(\u001b[0m\u001b[0;34m)\u001b[0m\u001b[0;34m\u001b[0m\u001b[0;34m\u001b[0m\u001b[0m\n\u001b[1;32m     49\u001b[0m \u001b[0;34m\u001b[0m\u001b[0m\n\u001b[0;32m---> 50\u001b[0;31m             \u001b[0;32mreturn\u001b[0m \u001b[0mdraw\u001b[0m\u001b[0;34m(\u001b[0m\u001b[0martist\u001b[0m\u001b[0;34m,\u001b[0m \u001b[0mrenderer\u001b[0m\u001b[0;34m,\u001b[0m \u001b[0;34m*\u001b[0m\u001b[0margs\u001b[0m\u001b[0;34m,\u001b[0m \u001b[0;34m**\u001b[0m\u001b[0mkwargs\u001b[0m\u001b[0;34m)\u001b[0m\u001b[0;34m\u001b[0m\u001b[0;34m\u001b[0m\u001b[0m\n\u001b[0m\u001b[1;32m     51\u001b[0m         \u001b[0;32mfinally\u001b[0m\u001b[0;34m:\u001b[0m\u001b[0;34m\u001b[0m\u001b[0;34m\u001b[0m\u001b[0m\n\u001b[1;32m     52\u001b[0m             \u001b[0;32mif\u001b[0m \u001b[0martist\u001b[0m\u001b[0;34m.\u001b[0m\u001b[0mget_agg_filter\u001b[0m\u001b[0;34m(\u001b[0m\u001b[0;34m)\u001b[0m \u001b[0;32mis\u001b[0m \u001b[0;32mnot\u001b[0m \u001b[0;32mNone\u001b[0m\u001b[0;34m:\u001b[0m\u001b[0;34m\u001b[0m\u001b[0;34m\u001b[0m\u001b[0m\n",
      "\u001b[0;32m~/.local/opt/miniconda/envs/enterprise/lib/python3.6/site-packages/matplotlib/axes/_base.py\u001b[0m in \u001b[0;36mdraw\u001b[0;34m(self, renderer, inframe)\u001b[0m\n\u001b[1;32m   2626\u001b[0m             \u001b[0mrenderer\u001b[0m\u001b[0;34m.\u001b[0m\u001b[0mstop_rasterizing\u001b[0m\u001b[0;34m(\u001b[0m\u001b[0;34m)\u001b[0m\u001b[0;34m\u001b[0m\u001b[0;34m\u001b[0m\u001b[0m\n\u001b[1;32m   2627\u001b[0m \u001b[0;34m\u001b[0m\u001b[0m\n\u001b[0;32m-> 2628\u001b[0;31m         \u001b[0mmimage\u001b[0m\u001b[0;34m.\u001b[0m\u001b[0m_draw_list_compositing_images\u001b[0m\u001b[0;34m(\u001b[0m\u001b[0mrenderer\u001b[0m\u001b[0;34m,\u001b[0m \u001b[0mself\u001b[0m\u001b[0;34m,\u001b[0m \u001b[0martists\u001b[0m\u001b[0;34m)\u001b[0m\u001b[0;34m\u001b[0m\u001b[0;34m\u001b[0m\u001b[0m\n\u001b[0m\u001b[1;32m   2629\u001b[0m \u001b[0;34m\u001b[0m\u001b[0m\n\u001b[1;32m   2630\u001b[0m         \u001b[0mrenderer\u001b[0m\u001b[0;34m.\u001b[0m\u001b[0mclose_group\u001b[0m\u001b[0;34m(\u001b[0m\u001b[0;34m'axes'\u001b[0m\u001b[0;34m)\u001b[0m\u001b[0;34m\u001b[0m\u001b[0;34m\u001b[0m\u001b[0m\n",
      "\u001b[0;32m~/.local/opt/miniconda/envs/enterprise/lib/python3.6/site-packages/matplotlib/image.py\u001b[0m in \u001b[0;36m_draw_list_compositing_images\u001b[0;34m(renderer, parent, artists, suppress_composite)\u001b[0m\n\u001b[1;32m    160\u001b[0m             \u001b[0;32melse\u001b[0m\u001b[0;34m:\u001b[0m\u001b[0;34m\u001b[0m\u001b[0;34m\u001b[0m\u001b[0m\n\u001b[1;32m    161\u001b[0m                 \u001b[0mflush_images\u001b[0m\u001b[0;34m(\u001b[0m\u001b[0;34m)\u001b[0m\u001b[0;34m\u001b[0m\u001b[0;34m\u001b[0m\u001b[0m\n\u001b[0;32m--> 162\u001b[0;31m                 \u001b[0ma\u001b[0m\u001b[0;34m.\u001b[0m\u001b[0mdraw\u001b[0m\u001b[0;34m(\u001b[0m\u001b[0mrenderer\u001b[0m\u001b[0;34m)\u001b[0m\u001b[0;34m\u001b[0m\u001b[0;34m\u001b[0m\u001b[0m\n\u001b[0m\u001b[1;32m    163\u001b[0m         \u001b[0mflush_images\u001b[0m\u001b[0;34m(\u001b[0m\u001b[0;34m)\u001b[0m\u001b[0;34m\u001b[0m\u001b[0;34m\u001b[0m\u001b[0m\n\u001b[1;32m    164\u001b[0m \u001b[0;34m\u001b[0m\u001b[0m\n",
      "\u001b[0;32m~/.local/opt/miniconda/envs/enterprise/lib/python3.6/site-packages/matplotlib/artist.py\u001b[0m in \u001b[0;36mdraw_wrapper\u001b[0;34m(artist, renderer, *args, **kwargs)\u001b[0m\n\u001b[1;32m     48\u001b[0m                 \u001b[0mrenderer\u001b[0m\u001b[0;34m.\u001b[0m\u001b[0mstart_filter\u001b[0m\u001b[0;34m(\u001b[0m\u001b[0;34m)\u001b[0m\u001b[0;34m\u001b[0m\u001b[0;34m\u001b[0m\u001b[0m\n\u001b[1;32m     49\u001b[0m \u001b[0;34m\u001b[0m\u001b[0m\n\u001b[0;32m---> 50\u001b[0;31m             \u001b[0;32mreturn\u001b[0m \u001b[0mdraw\u001b[0m\u001b[0;34m(\u001b[0m\u001b[0martist\u001b[0m\u001b[0;34m,\u001b[0m \u001b[0mrenderer\u001b[0m\u001b[0;34m,\u001b[0m \u001b[0;34m*\u001b[0m\u001b[0margs\u001b[0m\u001b[0;34m,\u001b[0m \u001b[0;34m**\u001b[0m\u001b[0mkwargs\u001b[0m\u001b[0;34m)\u001b[0m\u001b[0;34m\u001b[0m\u001b[0;34m\u001b[0m\u001b[0m\n\u001b[0m\u001b[1;32m     51\u001b[0m         \u001b[0;32mfinally\u001b[0m\u001b[0;34m:\u001b[0m\u001b[0;34m\u001b[0m\u001b[0;34m\u001b[0m\u001b[0m\n\u001b[1;32m     52\u001b[0m             \u001b[0;32mif\u001b[0m \u001b[0martist\u001b[0m\u001b[0;34m.\u001b[0m\u001b[0mget_agg_filter\u001b[0m\u001b[0;34m(\u001b[0m\u001b[0;34m)\u001b[0m \u001b[0;32mis\u001b[0m \u001b[0;32mnot\u001b[0m \u001b[0;32mNone\u001b[0m\u001b[0;34m:\u001b[0m\u001b[0;34m\u001b[0m\u001b[0;34m\u001b[0m\u001b[0m\n",
      "\u001b[0;32m~/.local/opt/miniconda/envs/enterprise/lib/python3.6/site-packages/matplotlib/axis.py\u001b[0m in \u001b[0;36mdraw\u001b[0;34m(self, renderer, *args, **kwargs)\u001b[0m\n\u001b[1;32m   1188\u001b[0m \u001b[0;34m\u001b[0m\u001b[0m\n\u001b[1;32m   1189\u001b[0m         \u001b[0;32mfor\u001b[0m \u001b[0mtick\u001b[0m \u001b[0;32min\u001b[0m \u001b[0mticks_to_draw\u001b[0m\u001b[0;34m:\u001b[0m\u001b[0;34m\u001b[0m\u001b[0;34m\u001b[0m\u001b[0m\n\u001b[0;32m-> 1190\u001b[0;31m             \u001b[0mtick\u001b[0m\u001b[0;34m.\u001b[0m\u001b[0mdraw\u001b[0m\u001b[0;34m(\u001b[0m\u001b[0mrenderer\u001b[0m\u001b[0;34m)\u001b[0m\u001b[0;34m\u001b[0m\u001b[0;34m\u001b[0m\u001b[0m\n\u001b[0m\u001b[1;32m   1191\u001b[0m \u001b[0;34m\u001b[0m\u001b[0m\n\u001b[1;32m   1192\u001b[0m         \u001b[0;31m# scale up the axis label box to also find the neighbors, not\u001b[0m\u001b[0;34m\u001b[0m\u001b[0;34m\u001b[0m\u001b[0;34m\u001b[0m\u001b[0m\n",
      "\u001b[0;32m~/.local/opt/miniconda/envs/enterprise/lib/python3.6/site-packages/matplotlib/artist.py\u001b[0m in \u001b[0;36mdraw_wrapper\u001b[0;34m(artist, renderer, *args, **kwargs)\u001b[0m\n\u001b[1;32m     48\u001b[0m                 \u001b[0mrenderer\u001b[0m\u001b[0;34m.\u001b[0m\u001b[0mstart_filter\u001b[0m\u001b[0;34m(\u001b[0m\u001b[0;34m)\u001b[0m\u001b[0;34m\u001b[0m\u001b[0;34m\u001b[0m\u001b[0m\n\u001b[1;32m     49\u001b[0m \u001b[0;34m\u001b[0m\u001b[0m\n\u001b[0;32m---> 50\u001b[0;31m             \u001b[0;32mreturn\u001b[0m \u001b[0mdraw\u001b[0m\u001b[0;34m(\u001b[0m\u001b[0martist\u001b[0m\u001b[0;34m,\u001b[0m \u001b[0mrenderer\u001b[0m\u001b[0;34m,\u001b[0m \u001b[0;34m*\u001b[0m\u001b[0margs\u001b[0m\u001b[0;34m,\u001b[0m \u001b[0;34m**\u001b[0m\u001b[0mkwargs\u001b[0m\u001b[0;34m)\u001b[0m\u001b[0;34m\u001b[0m\u001b[0;34m\u001b[0m\u001b[0m\n\u001b[0m\u001b[1;32m     51\u001b[0m         \u001b[0;32mfinally\u001b[0m\u001b[0;34m:\u001b[0m\u001b[0;34m\u001b[0m\u001b[0;34m\u001b[0m\u001b[0m\n\u001b[1;32m     52\u001b[0m             \u001b[0;32mif\u001b[0m \u001b[0martist\u001b[0m\u001b[0;34m.\u001b[0m\u001b[0mget_agg_filter\u001b[0m\u001b[0;34m(\u001b[0m\u001b[0;34m)\u001b[0m \u001b[0;32mis\u001b[0m \u001b[0;32mnot\u001b[0m \u001b[0;32mNone\u001b[0m\u001b[0;34m:\u001b[0m\u001b[0;34m\u001b[0m\u001b[0;34m\u001b[0m\u001b[0m\n",
      "\u001b[0;32m~/.local/opt/miniconda/envs/enterprise/lib/python3.6/site-packages/matplotlib/axis.py\u001b[0m in \u001b[0;36mdraw\u001b[0;34m(self, renderer)\u001b[0m\n\u001b[1;32m    302\u001b[0m \u001b[0;34m\u001b[0m\u001b[0m\n\u001b[1;32m    303\u001b[0m         \u001b[0;32mif\u001b[0m \u001b[0mself\u001b[0m\u001b[0;34m.\u001b[0m\u001b[0mlabel1On\u001b[0m\u001b[0;34m:\u001b[0m\u001b[0;34m\u001b[0m\u001b[0;34m\u001b[0m\u001b[0m\n\u001b[0;32m--> 304\u001b[0;31m             \u001b[0mself\u001b[0m\u001b[0;34m.\u001b[0m\u001b[0mlabel1\u001b[0m\u001b[0;34m.\u001b[0m\u001b[0mdraw\u001b[0m\u001b[0;34m(\u001b[0m\u001b[0mrenderer\u001b[0m\u001b[0;34m)\u001b[0m\u001b[0;34m\u001b[0m\u001b[0;34m\u001b[0m\u001b[0m\n\u001b[0m\u001b[1;32m    305\u001b[0m         \u001b[0;32mif\u001b[0m \u001b[0mself\u001b[0m\u001b[0;34m.\u001b[0m\u001b[0mlabel2On\u001b[0m\u001b[0;34m:\u001b[0m\u001b[0;34m\u001b[0m\u001b[0;34m\u001b[0m\u001b[0m\n\u001b[1;32m    306\u001b[0m             \u001b[0mself\u001b[0m\u001b[0;34m.\u001b[0m\u001b[0mlabel2\u001b[0m\u001b[0;34m.\u001b[0m\u001b[0mdraw\u001b[0m\u001b[0;34m(\u001b[0m\u001b[0mrenderer\u001b[0m\u001b[0;34m)\u001b[0m\u001b[0;34m\u001b[0m\u001b[0;34m\u001b[0m\u001b[0m\n",
      "\u001b[0;32m~/.local/opt/miniconda/envs/enterprise/lib/python3.6/site-packages/matplotlib/artist.py\u001b[0m in \u001b[0;36mdraw_wrapper\u001b[0;34m(artist, renderer, *args, **kwargs)\u001b[0m\n\u001b[1;32m     48\u001b[0m                 \u001b[0mrenderer\u001b[0m\u001b[0;34m.\u001b[0m\u001b[0mstart_filter\u001b[0m\u001b[0;34m(\u001b[0m\u001b[0;34m)\u001b[0m\u001b[0;34m\u001b[0m\u001b[0;34m\u001b[0m\u001b[0m\n\u001b[1;32m     49\u001b[0m \u001b[0;34m\u001b[0m\u001b[0m\n\u001b[0;32m---> 50\u001b[0;31m             \u001b[0;32mreturn\u001b[0m \u001b[0mdraw\u001b[0m\u001b[0;34m(\u001b[0m\u001b[0martist\u001b[0m\u001b[0;34m,\u001b[0m \u001b[0mrenderer\u001b[0m\u001b[0;34m,\u001b[0m \u001b[0;34m*\u001b[0m\u001b[0margs\u001b[0m\u001b[0;34m,\u001b[0m \u001b[0;34m**\u001b[0m\u001b[0mkwargs\u001b[0m\u001b[0;34m)\u001b[0m\u001b[0;34m\u001b[0m\u001b[0;34m\u001b[0m\u001b[0m\n\u001b[0m\u001b[1;32m     51\u001b[0m         \u001b[0;32mfinally\u001b[0m\u001b[0;34m:\u001b[0m\u001b[0;34m\u001b[0m\u001b[0;34m\u001b[0m\u001b[0m\n\u001b[1;32m     52\u001b[0m             \u001b[0;32mif\u001b[0m \u001b[0martist\u001b[0m\u001b[0;34m.\u001b[0m\u001b[0mget_agg_filter\u001b[0m\u001b[0;34m(\u001b[0m\u001b[0;34m)\u001b[0m \u001b[0;32mis\u001b[0m \u001b[0;32mnot\u001b[0m \u001b[0;32mNone\u001b[0m\u001b[0;34m:\u001b[0m\u001b[0;34m\u001b[0m\u001b[0;34m\u001b[0m\u001b[0m\n",
      "\u001b[0;32m~/.local/opt/miniconda/envs/enterprise/lib/python3.6/site-packages/matplotlib/text.py\u001b[0m in \u001b[0;36mdraw\u001b[0;34m(self, renderer)\u001b[0m\n\u001b[1;32m    752\u001b[0m                     textrenderer.draw_tex(gc, x, y, clean_line,\n\u001b[1;32m    753\u001b[0m                                           \u001b[0mtextobj\u001b[0m\u001b[0;34m.\u001b[0m\u001b[0m_fontproperties\u001b[0m\u001b[0;34m,\u001b[0m \u001b[0mangle\u001b[0m\u001b[0;34m,\u001b[0m\u001b[0;34m\u001b[0m\u001b[0;34m\u001b[0m\u001b[0m\n\u001b[0;32m--> 754\u001b[0;31m                                           mtext=mtext)\n\u001b[0m\u001b[1;32m    755\u001b[0m                 \u001b[0;32melse\u001b[0m\u001b[0;34m:\u001b[0m\u001b[0;34m\u001b[0m\u001b[0;34m\u001b[0m\u001b[0m\n\u001b[1;32m    756\u001b[0m                     textrenderer.draw_text(gc, x, y, clean_line,\n",
      "\u001b[0;32m~/.local/opt/miniconda/envs/enterprise/lib/python3.6/site-packages/matplotlib/backend_bases.py\u001b[0m in \u001b[0;36mdraw_tex\u001b[0;34m(self, gc, x, y, s, prop, angle, ismath, mtext)\u001b[0m\n\u001b[1;32m    503\u001b[0m         \"\"\"\n\u001b[1;32m    504\u001b[0m         \"\"\"\n\u001b[0;32m--> 505\u001b[0;31m         \u001b[0mself\u001b[0m\u001b[0;34m.\u001b[0m\u001b[0m_draw_text_as_path\u001b[0m\u001b[0;34m(\u001b[0m\u001b[0mgc\u001b[0m\u001b[0;34m,\u001b[0m \u001b[0mx\u001b[0m\u001b[0;34m,\u001b[0m \u001b[0my\u001b[0m\u001b[0;34m,\u001b[0m \u001b[0ms\u001b[0m\u001b[0;34m,\u001b[0m \u001b[0mprop\u001b[0m\u001b[0;34m,\u001b[0m \u001b[0mangle\u001b[0m\u001b[0;34m,\u001b[0m \u001b[0mismath\u001b[0m\u001b[0;34m=\u001b[0m\u001b[0;34m\"TeX\"\u001b[0m\u001b[0;34m)\u001b[0m\u001b[0;34m\u001b[0m\u001b[0;34m\u001b[0m\u001b[0m\n\u001b[0m\u001b[1;32m    506\u001b[0m \u001b[0;34m\u001b[0m\u001b[0m\n\u001b[1;32m    507\u001b[0m     \u001b[0;32mdef\u001b[0m \u001b[0mdraw_text\u001b[0m\u001b[0;34m(\u001b[0m\u001b[0mself\u001b[0m\u001b[0;34m,\u001b[0m \u001b[0mgc\u001b[0m\u001b[0;34m,\u001b[0m \u001b[0mx\u001b[0m\u001b[0;34m,\u001b[0m \u001b[0my\u001b[0m\u001b[0;34m,\u001b[0m \u001b[0ms\u001b[0m\u001b[0;34m,\u001b[0m \u001b[0mprop\u001b[0m\u001b[0;34m,\u001b[0m \u001b[0mangle\u001b[0m\u001b[0;34m,\u001b[0m \u001b[0mismath\u001b[0m\u001b[0;34m=\u001b[0m\u001b[0;32mFalse\u001b[0m\u001b[0;34m,\u001b[0m \u001b[0mmtext\u001b[0m\u001b[0;34m=\u001b[0m\u001b[0;32mNone\u001b[0m\u001b[0;34m)\u001b[0m\u001b[0;34m:\u001b[0m\u001b[0;34m\u001b[0m\u001b[0;34m\u001b[0m\u001b[0m\n",
      "\u001b[0;32m~/.local/opt/miniconda/envs/enterprise/lib/python3.6/site-packages/matplotlib/patheffects.py\u001b[0m in \u001b[0;36m_draw_text_as_path\u001b[0;34m(self, gc, x, y, s, prop, angle, ismath)\u001b[0m\n\u001b[1;32m    149\u001b[0m         \u001b[0;31m# Implements the naive text drawing as is found in RendererBase.\u001b[0m\u001b[0;34m\u001b[0m\u001b[0;34m\u001b[0m\u001b[0;34m\u001b[0m\u001b[0m\n\u001b[1;32m    150\u001b[0m         path, transform = self._get_text_path_transform(x, y, s, prop,\n\u001b[0;32m--> 151\u001b[0;31m                                                         angle, ismath)\n\u001b[0m\u001b[1;32m    152\u001b[0m         \u001b[0mcolor\u001b[0m \u001b[0;34m=\u001b[0m \u001b[0mgc\u001b[0m\u001b[0;34m.\u001b[0m\u001b[0mget_rgb\u001b[0m\u001b[0;34m(\u001b[0m\u001b[0;34m)\u001b[0m\u001b[0;34m\u001b[0m\u001b[0;34m\u001b[0m\u001b[0m\n\u001b[1;32m    153\u001b[0m         \u001b[0mgc\u001b[0m\u001b[0;34m.\u001b[0m\u001b[0mset_linewidth\u001b[0m\u001b[0;34m(\u001b[0m\u001b[0;36m0.0\u001b[0m\u001b[0;34m)\u001b[0m\u001b[0;34m\u001b[0m\u001b[0;34m\u001b[0m\u001b[0m\n",
      "\u001b[0;32m~/.local/opt/miniconda/envs/enterprise/lib/python3.6/site-packages/matplotlib/backend_bases.py\u001b[0m in \u001b[0;36m_get_text_path_transform\u001b[0;34m(self, x, y, s, prop, angle, ismath)\u001b[0m\n\u001b[1;32m    572\u001b[0m         \u001b[0;32mif\u001b[0m \u001b[0mismath\u001b[0m \u001b[0;34m==\u001b[0m \u001b[0;34m\"TeX\"\u001b[0m\u001b[0;34m:\u001b[0m\u001b[0;34m\u001b[0m\u001b[0;34m\u001b[0m\u001b[0m\n\u001b[1;32m    573\u001b[0m             verts, codes = text2path.get_text_path(prop, s, ismath=False,\n\u001b[0;32m--> 574\u001b[0;31m                                                    usetex=True)\n\u001b[0m\u001b[1;32m    575\u001b[0m         \u001b[0;32melse\u001b[0m\u001b[0;34m:\u001b[0m\u001b[0;34m\u001b[0m\u001b[0;34m\u001b[0m\u001b[0m\n\u001b[1;32m    576\u001b[0m             verts, codes = text2path.get_text_path(prop, s, ismath=ismath,\n",
      "\u001b[0;32m~/.local/opt/miniconda/envs/enterprise/lib/python3.6/site-packages/matplotlib/textpath.py\u001b[0m in \u001b[0;36mget_text_path\u001b[0;34m(self, prop, s, ismath, usetex)\u001b[0m\n\u001b[1;32m    156\u001b[0m                                                     prop, s)\n\u001b[1;32m    157\u001b[0m         \u001b[0;32melse\u001b[0m\u001b[0;34m:\u001b[0m\u001b[0;34m\u001b[0m\u001b[0;34m\u001b[0m\u001b[0m\n\u001b[0;32m--> 158\u001b[0;31m             \u001b[0mglyph_info\u001b[0m\u001b[0;34m,\u001b[0m \u001b[0mglyph_map\u001b[0m\u001b[0;34m,\u001b[0m \u001b[0mrects\u001b[0m \u001b[0;34m=\u001b[0m \u001b[0mself\u001b[0m\u001b[0;34m.\u001b[0m\u001b[0mget_glyphs_tex\u001b[0m\u001b[0;34m(\u001b[0m\u001b[0mprop\u001b[0m\u001b[0;34m,\u001b[0m \u001b[0ms\u001b[0m\u001b[0;34m)\u001b[0m\u001b[0;34m\u001b[0m\u001b[0;34m\u001b[0m\u001b[0m\n\u001b[0m\u001b[1;32m    159\u001b[0m \u001b[0;34m\u001b[0m\u001b[0m\n\u001b[1;32m    160\u001b[0m         \u001b[0mverts\u001b[0m\u001b[0;34m,\u001b[0m \u001b[0mcodes\u001b[0m \u001b[0;34m=\u001b[0m \u001b[0;34m[\u001b[0m\u001b[0;34m]\u001b[0m\u001b[0;34m,\u001b[0m \u001b[0;34m[\u001b[0m\u001b[0;34m]\u001b[0m\u001b[0;34m\u001b[0m\u001b[0;34m\u001b[0m\u001b[0m\n",
      "\u001b[0;32m~/.local/opt/miniconda/envs/enterprise/lib/python3.6/site-packages/matplotlib/textpath.py\u001b[0m in \u001b[0;36mget_glyphs_tex\u001b[0;34m(self, prop, s, glyph_map, return_new_glyphs_only)\u001b[0m\n\u001b[1;32m    330\u001b[0m         \u001b[0;31m# oldfont, seq = None, []\u001b[0m\u001b[0;34m\u001b[0m\u001b[0;34m\u001b[0m\u001b[0;34m\u001b[0m\u001b[0m\n\u001b[1;32m    331\u001b[0m         \u001b[0;32mfor\u001b[0m \u001b[0mx1\u001b[0m\u001b[0;34m,\u001b[0m \u001b[0my1\u001b[0m\u001b[0;34m,\u001b[0m \u001b[0mdvifont\u001b[0m\u001b[0;34m,\u001b[0m \u001b[0mglyph\u001b[0m\u001b[0;34m,\u001b[0m \u001b[0mwidth\u001b[0m \u001b[0;32min\u001b[0m \u001b[0mpage\u001b[0m\u001b[0;34m.\u001b[0m\u001b[0mtext\u001b[0m\u001b[0;34m:\u001b[0m\u001b[0;34m\u001b[0m\u001b[0;34m\u001b[0m\u001b[0m\n\u001b[0;32m--> 332\u001b[0;31m             \u001b[0mfont\u001b[0m\u001b[0;34m,\u001b[0m \u001b[0menc\u001b[0m \u001b[0;34m=\u001b[0m \u001b[0mself\u001b[0m\u001b[0;34m.\u001b[0m\u001b[0m_get_ps_font_and_encoding\u001b[0m\u001b[0;34m(\u001b[0m\u001b[0mdvifont\u001b[0m\u001b[0;34m.\u001b[0m\u001b[0mtexname\u001b[0m\u001b[0;34m)\u001b[0m\u001b[0;34m\u001b[0m\u001b[0;34m\u001b[0m\u001b[0m\n\u001b[0m\u001b[1;32m    333\u001b[0m             \u001b[0mchar_id\u001b[0m \u001b[0;34m=\u001b[0m \u001b[0mself\u001b[0m\u001b[0;34m.\u001b[0m\u001b[0m_get_char_id_ps\u001b[0m\u001b[0;34m(\u001b[0m\u001b[0mfont\u001b[0m\u001b[0;34m,\u001b[0m \u001b[0mglyph\u001b[0m\u001b[0;34m)\u001b[0m\u001b[0;34m\u001b[0m\u001b[0;34m\u001b[0m\u001b[0m\n\u001b[1;32m    334\u001b[0m \u001b[0;34m\u001b[0m\u001b[0m\n",
      "\u001b[0;32m~/.local/opt/miniconda/envs/enterprise/lib/python3.6/site-packages/matplotlib/textpath.py\u001b[0m in \u001b[0;36m_get_ps_font_and_encoding\u001b[0;34m(texname)\u001b[0m\n\u001b[1;32m    375\u001b[0m     \u001b[0;32mdef\u001b[0m \u001b[0m_get_ps_font_and_encoding\u001b[0m\u001b[0;34m(\u001b[0m\u001b[0mtexname\u001b[0m\u001b[0;34m)\u001b[0m\u001b[0;34m:\u001b[0m\u001b[0;34m\u001b[0m\u001b[0;34m\u001b[0m\u001b[0m\n\u001b[1;32m    376\u001b[0m         \u001b[0mtex_font_map\u001b[0m \u001b[0;34m=\u001b[0m \u001b[0mdviread\u001b[0m\u001b[0;34m.\u001b[0m\u001b[0mPsfontsMap\u001b[0m\u001b[0;34m(\u001b[0m\u001b[0mdviread\u001b[0m\u001b[0;34m.\u001b[0m\u001b[0mfind_tex_file\u001b[0m\u001b[0;34m(\u001b[0m\u001b[0;34m'pdftex.map'\u001b[0m\u001b[0;34m)\u001b[0m\u001b[0;34m)\u001b[0m\u001b[0;34m\u001b[0m\u001b[0;34m\u001b[0m\u001b[0m\n\u001b[0;32m--> 377\u001b[0;31m         \u001b[0mfont_bunch\u001b[0m \u001b[0;34m=\u001b[0m \u001b[0mtex_font_map\u001b[0m\u001b[0;34m[\u001b[0m\u001b[0mtexname\u001b[0m\u001b[0;34m]\u001b[0m\u001b[0;34m\u001b[0m\u001b[0;34m\u001b[0m\u001b[0m\n\u001b[0m\u001b[1;32m    378\u001b[0m         \u001b[0;32mif\u001b[0m \u001b[0mfont_bunch\u001b[0m\u001b[0;34m.\u001b[0m\u001b[0mfilename\u001b[0m \u001b[0;32mis\u001b[0m \u001b[0;32mNone\u001b[0m\u001b[0;34m:\u001b[0m\u001b[0;34m\u001b[0m\u001b[0;34m\u001b[0m\u001b[0m\n\u001b[1;32m    379\u001b[0m             raise ValueError(\n",
      "\u001b[0;32m~/.local/opt/miniconda/envs/enterprise/lib/python3.6/site-packages/matplotlib/dviread.py\u001b[0m in \u001b[0;36m__getitem__\u001b[0;34m(self, texname)\u001b[0m\n\u001b[1;32m    827\u001b[0m         \u001b[0;32massert\u001b[0m \u001b[0misinstance\u001b[0m\u001b[0;34m(\u001b[0m\u001b[0mtexname\u001b[0m\u001b[0;34m,\u001b[0m \u001b[0mbytes\u001b[0m\u001b[0;34m)\u001b[0m\u001b[0;34m\u001b[0m\u001b[0;34m\u001b[0m\u001b[0m\n\u001b[1;32m    828\u001b[0m         \u001b[0;32mtry\u001b[0m\u001b[0;34m:\u001b[0m\u001b[0;34m\u001b[0m\u001b[0;34m\u001b[0m\u001b[0m\n\u001b[0;32m--> 829\u001b[0;31m             \u001b[0mresult\u001b[0m \u001b[0;34m=\u001b[0m \u001b[0mself\u001b[0m\u001b[0;34m.\u001b[0m\u001b[0m_font\u001b[0m\u001b[0;34m[\u001b[0m\u001b[0mtexname\u001b[0m\u001b[0;34m]\u001b[0m\u001b[0;34m\u001b[0m\u001b[0;34m\u001b[0m\u001b[0m\n\u001b[0m\u001b[1;32m    830\u001b[0m         \u001b[0;32mexcept\u001b[0m \u001b[0mKeyError\u001b[0m\u001b[0;34m:\u001b[0m\u001b[0;34m\u001b[0m\u001b[0;34m\u001b[0m\u001b[0m\n\u001b[1;32m    831\u001b[0m             fmt = ('A PostScript file for the font whose TeX name is \"{0}\" '\n",
      "\u001b[0;31mKeyError\u001b[0m: b'tcss3583'"
     ]
    }
   ],
   "source": [
    "zmin = 1e-14\n",
    "zmax = 1.2e-13\n",
    "skymap_exp = 10**skymap\n",
    "norm=LogNorm(vmin=zmin, vmax=zmax)\n",
    "\n",
    "plt.close('all')\n",
    "plt.figure(0, figsize=(7, 5))\n",
    "ax = plt.subplot(111, projection='astro mollweide')\n",
    "ax.grid()\n",
    "spt.outline_text(ax)\n",
    "\n",
    "spt.healpix_heatmap(skymap_exp, cmap='viridis_r', norm=LogNorm(vmin=zmin, vmax=zmax))\n",
    "\n",
    "ax.scatter(psr_locs[:,0], psr_locs[:,1], 12**2,\n",
    "          marker='*', facecolor='w', edgecolors='k', alpha=0.9)\n",
    "\n",
    "cbar = plt.colorbar(orientation='horizontal', pad=0.05)\n",
    "plt.suptitle(r'$95\\%$ Characteristic Strain Upper Limit, $h_{95}$', y=0.05)\n",
    "plt.grid(linestyle='dotted', color='k')\n",
    "plt.tight_layout()\n",
    "plt.savefig('/home/pbaker/skymap_11yr.pdf')\n",
    "plt.show()"
   ]
  },
  {
   "cell_type": "code",
   "execution_count": null,
   "metadata": {},
   "outputs": [],
   "source": [
    "10**np.median(skymap)"
   ]
  },
  {
   "cell_type": "markdown",
   "metadata": {},
   "source": [
    "## Dropout"
   ]
  },
  {
   "cell_type": "code",
   "execution_count": 4,
   "metadata": {},
   "outputs": [],
   "source": [
    "with open('/home/pbaker/nanograv/bwm/dropout/dropout.json') as fin:\n",
    "    drop_9 = json.load(fin)\n",
    "\n",
    "with open('/home/pbaker/nanograv/bwm/dropout_11/dropout.json') as fin:\n",
    "    drop_11 = json.load(fin)"
   ]
  },
  {
   "cell_type": "code",
   "execution_count": 5,
   "metadata": {},
   "outputs": [],
   "source": [
    "psrkeys = np.array(list(drop_9.keys()))\n",
    "Os_9 = np.array(list(drop_9.values()))\n",
    "Os_11 = np.array([drop_11[key] for key in psrkeys])"
   ]
  },
  {
   "cell_type": "code",
   "execution_count": 6,
   "metadata": {},
   "outputs": [],
   "source": [
    "psrnames = np.array([\n",
    "    'B1855$+$09',\n",
    "    'J0030$+$0451',\n",
    "    'J0613$-$0200',\n",
    "    'J1012$+$5307',\n",
    "    'J1024$-$0719',\n",
    "    'J1455$-$3330',\n",
    "    'J1600$-$3053',\n",
    "    'J1614$-$2230',\n",
    "    'J1640$+$2224',\n",
    "    'J1713$+$0747',\n",
    "    'J1741$+$1351',\n",
    "    'J1744$-$1134',\n",
    "    'J1853$+$1303',\n",
    "    'J1909$-$3744',\n",
    "    'J1918$-$0642',\n",
    "    'J2010$-$1323',\n",
    "    'J2145$-$0750',\n",
    "    'J2317$+$1439'\n",
    "])"
   ]
  },
  {
   "cell_type": "code",
   "execution_count": 7,
   "metadata": {},
   "outputs": [],
   "source": [
    "idx = np.argsort(Os_9)\n",
    "xs = np.arange(len(Os_9))\n",
    "\n",
    "fig = plt.figure(figsize=(5,3))\n",
    "ax = fig.add_subplot(111)\n",
    "\n",
    "ax.plot(xs, Os_9[idx[::-1]], linestyle='none', marker='o', color='C1', label='9 yr')\n",
    "ax.plot(xs, Os_11[idx[::-1]], linestyle='none', marker='o', color='C0', label='11 yr')\n",
    "ax.axhline(y=1, color='k', ls=':')\n",
    "ax.set_xticks(xs)\n",
    "ax.set_xticklabels(psrnames[idx[::-1]], rotation=80)\n",
    "ax.set_ylim([1/100, 1000])\n",
    "ax.set_yscale('log')\n",
    "ax.set_ylabel('Bayes factor')\n",
    "plt.yticks([0.01, 0.1, 1, 10, 100, 1000], [\"0.01\", \"0.1\", \"1\", \"10\", \"100\", \"1000\"])\n",
    "\n",
    "ax.legend(loc=0)\n",
    "\n",
    "plt.tight_layout()\n",
    "plt.savefig(\"/home/pbaker/dropout.pdf\")"
   ]
  },
  {
   "cell_type": "code",
   "execution_count": null,
   "metadata": {},
   "outputs": [],
   "source": []
  }
 ],
 "metadata": {
  "kernelspec": {
   "display_name": "Python 3",
   "language": "python",
   "name": "python3"
  },
  "language_info": {
   "codemirror_mode": {
    "name": "ipython",
    "version": 3
   },
   "file_extension": ".py",
   "mimetype": "text/x-python",
   "name": "python",
   "nbconvert_exporter": "python",
   "pygments_lexer": "ipython3",
   "version": "3.6.8"
  }
 },
 "nbformat": 4,
 "nbformat_minor": 2
}
