{
 "cells": [
  {
   "cell_type": "code",
   "execution_count": null,
   "metadata": {
    "collapsed": true
   },
   "outputs": [],
   "source": [
    "from __future__ import division, print_function\n",
    "\n",
    "import numpy as np\n",
    "import matplotlib.pyplot as plt\n",
    "\n",
    "from corner import corner\n",
    "from acor import acor\n",
    "from UL_uncert import UL_uncert\n",
    "\n",
    "%matplotlib inline"
   ]
  },
  {
   "cell_type": "code",
   "execution_count": null,
   "metadata": {
    "collapsed": true
   },
   "outputs": [],
   "source": [
    "params = [r'$\\cos\\theta$', r'$\\phi$', r'$\\psi$', r'$\\log_{10} h$', r'$t_0$ (MJD)']\n",
    "ch_dict = {}"
   ]
  },
  {
   "cell_type": "code",
   "execution_count": null,
   "metadata": {
    "collapsed": true
   },
   "outputs": [],
   "source": [
    "analysis = 'UL'\n",
    "#analysis = 'Det'"
   ]
  },
  {
   "cell_type": "markdown",
   "metadata": {},
   "source": [
    "## BayesEphem"
   ]
  },
  {
   "cell_type": "code",
   "execution_count": null,
   "metadata": {},
   "outputs": [],
   "source": [
    "ephem = 'BayesEphem'\n",
    "\n",
    "chaindir = '/home/pbaker/nanograv/bwm/{}/{}/'.format(analysis, ephem)\n",
    "chain_raw = np.loadtxt(chaindir + 'chain_1.txt')\n",
    "    \n",
    "burn = int(0.1 * len(chain_raw))\n",
    "chain = chain_raw[burn:]\n",
    "chain_bwm = chain[:,-20:-15]  # with BayesEphem\n",
    "\n",
    "# de-log x-axis for ULs\n",
    "if analysis == 'UL':\n",
    "    chain_bwm[:,-2] = 10**chain_bwm[:,-2]\n",
    "    params[-2] = r'$h$'\n",
    "\n",
    "corr = acor(chain_bwm[:,3])[0]\n",
    "N = len(chain_bwm)\n",
    "print(\"BayesEphem\")\n",
    "print(\"N = {}, corr = {}, Neff = {}\".format(N, corr, N/corr))\n",
    "\n",
    "ch_dict['BayesEphem'] = chain_bwm"
   ]
  },
  {
   "cell_type": "markdown",
   "metadata": {},
   "source": [
    "## Per ephemeris runs"
   ]
  },
  {
   "cell_type": "code",
   "execution_count": null,
   "metadata": {},
   "outputs": [],
   "source": [
    "ephems = ['DE421', 'DE430', 'DE435', 'DE436']\n",
    "\n",
    "for eph in ephems:\n",
    "    chaindir = '/home/pbaker/nanograv/bwm/{}/{}/'.format(analysis, eph)\n",
    "    chain_raw = np.loadtxt(chaindir + 'chain_1.txt')\n",
    "    \n",
    "    burn = int(0.1 * len(chain_raw))\n",
    "    chain = chain_raw[burn:]    \n",
    "    chain_bwm = chain[:,-9:-4]  # no ephem model\n",
    "\n",
    "    # de-log x-axis for ULs\n",
    "    if analysis == 'UL':\n",
    "        chain_bwm[:,-2] = 10**chain_bwm[:,-2]\n",
    "        params[-2] = r'$h$'\n",
    "    \n",
    "    corr = acor(chain_bwm[:,3])[0]\n",
    "    N = len(chain_bwm)\n",
    "    print(eph)\n",
    "    print(\"N = {}, corr = {}, Neff = {}\".format(N, corr, N/corr))\n",
    "    print(\"\")\n",
    "    \n",
    "    ch_dict[eph] = chain_bwm"
   ]
  },
  {
   "cell_type": "markdown",
   "metadata": {},
   "source": [
    "# Plots!"
   ]
  },
  {
   "cell_type": "code",
   "execution_count": null,
   "metadata": {},
   "outputs": [],
   "source": [
    "corner_kwargs = {'bins':30,\n",
    "                 'labels':params,\n",
    "                 'smooth':1.0,\n",
    "                 'plot_datapoints':True,\n",
    "                 'plot_density':False,\n",
    "                 'plot_contours':False,\n",
    "                 'fill_contours':True,}\n",
    "\n",
    "fig = corner(ch_dict['DE421'], color='C0', **corner_kwargs);\n",
    "#corner(ch_dict['DE430'], color='C1', fig=fig);\n",
    "#corner(ch_dict['DE435'], color='C2', fig=fig);\n",
    "corner(ch_dict['DE436'], color='C3', fig=fig, **corner_kwargs);"
   ]
  },
  {
   "cell_type": "code",
   "execution_count": null,
   "metadata": {},
   "outputs": [],
   "source": [
    "ax = []\n",
    "fig = plt.figure(figsize=(20,12))\n",
    "\n",
    "for pp, par in enumerate(params):\n",
    "    ax.append(fig.add_subplot(2,3,pp+1))\n",
    "    for eph in ephems:\n",
    "        ax[pp].hist(ch_dict[eph][:,pp], 30, normed=True, histtype='step', label=eph)\n",
    "    ax[pp].set_xlabel(par)\n",
    "\n",
    "ax[0].legend(loc='upper left')\n",
    "ax[3].set_yscale('log')\n",
    "ax[4].set_yscale('log')"
   ]
  },
  {
   "cell_type": "code",
   "execution_count": null,
   "metadata": {},
   "outputs": [],
   "source": [
    "corner_kwargs = {'bins':30,\n",
    "                 'labels':params,\n",
    "                 'smooth':1.0,\n",
    "                 'plot_datapoints':True,\n",
    "                 'plot_density':False,\n",
    "                 'plot_contours':False,\n",
    "                 'fill_contours':True,}\n",
    "\n",
    "corner(ch_dict['BayesEphem'], **corner_kwargs);"
   ]
  },
  {
   "cell_type": "code",
   "execution_count": null,
   "metadata": {},
   "outputs": [],
   "source": [
    "ax = []\n",
    "colors = ['C0', 'C1', 'C2', 'C3', 'k']\n",
    "runs = ['DE421', 'DE430', 'DE435', 'DE436', 'BayesEphem']\n",
    "fig = plt.figure(figsize=(20,12))\n",
    "\n",
    "for pp, par in enumerate(params):\n",
    "    ax.append(fig.add_subplot(2,3,pp+1))\n",
    "    for eph,col in zip(runs, colors):\n",
    "        ax[pp].hist(ch_dict[eph][:,pp], 30, normed=True, histtype='step', label=eph, color=col)\n",
    "    ax[pp].set_xlabel(par)\n",
    "\n",
    "\n",
    "ax[0].legend(loc='upper left')\n",
    "ax[3].set_yscale('log')\n",
    "ax[4].set_yscale('log')"
   ]
  },
  {
   "cell_type": "code",
   "execution_count": null,
   "metadata": {},
   "outputs": [],
   "source": [
    "if analysis == \"UL\":\n",
    "    for run in runs:\n",
    "        UL, dUL = UL_uncert(ch_dict[run][:,-2])\n",
    "        print(\"{}: {:.2e} +/- {:.2e}\".format(run, UL, dUL))"
   ]
  }
 ],
 "metadata": {
  "anaconda-cloud": {},
  "kernelspec": {
   "display_name": "Python 2",
   "language": "python",
   "name": "python2"
  },
  "language_info": {
   "codemirror_mode": {
    "name": "ipython",
    "version": 2
   },
   "file_extension": ".py",
   "mimetype": "text/x-python",
   "name": "python",
   "nbconvert_exporter": "python",
   "pygments_lexer": "ipython2",
   "version": "2.7.13"
  }
 },
 "nbformat": 4,
 "nbformat_minor": 2
}
